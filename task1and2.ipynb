{
  "nbformat": 4,
  "nbformat_minor": 0,
  "metadata": {
    "kernelspec": {
      "name": "python3",
      "display_name": "Python 3"
    },
    "colab": {
      "name": "task1.ipynb",
      "provenance": [],
      "collapsed_sections": [],
      "toc_visible": true,
      "machine_shape": "hm"
    }
  },
  "cells": [
    {
      "cell_type": "markdown",
      "metadata": {
        "id": "2yxosRe4PzSo",
        "colab_type": "text"
      },
      "source": [
        "# GSoC2020 Trigger Task\n",
        "By Rui Xi"
      ]
    },
    {
      "cell_type": "markdown",
      "metadata": {
        "id": "lbwt-_SfPzSv",
        "colab_type": "text"
      },
      "source": [
        "## Data Exploration and Cleaning"
      ]
    },
    {
      "cell_type": "markdown",
      "metadata": {
        "id": "7Wgs4ngl8bHS",
        "colab_type": "text"
      },
      "source": [
        "### Explore Dataset and Standardization"
      ]
    },
    {
      "cell_type": "code",
      "metadata": {
        "id": "sqnVAF2PPzS1",
        "colab_type": "code",
        "colab": {}
      },
      "source": [
        "import numpy as np\n",
        "from sklearn import preprocessing"
      ],
      "execution_count": 0,
      "outputs": []
    },
    {
      "cell_type": "code",
      "metadata": {
        "id": "_vSppyfEQKOD",
        "colab_type": "code",
        "outputId": "44b7f9a2-f2d5-4a03-9d38-c46f28478b12",
        "colab": {
          "base_uri": "https://localhost:8080/",
          "height": 124
        }
      },
      "source": [
        "from google.colab import drive\n",
        "drive.mount('/content/drive')"
      ],
      "execution_count": 2,
      "outputs": [
        {
          "output_type": "stream",
          "text": [
            "Go to this URL in a browser: https://accounts.google.com/o/oauth2/auth?client_id=947318989803-6bn6qk8qdgf4n4g3pfee6491hc0brc4i.apps.googleusercontent.com&redirect_uri=urn%3aietf%3awg%3aoauth%3a2.0%3aoob&response_type=code&scope=email%20https%3a%2f%2fwww.googleapis.com%2fauth%2fdocs.test%20https%3a%2f%2fwww.googleapis.com%2fauth%2fdrive%20https%3a%2f%2fwww.googleapis.com%2fauth%2fdrive.photos.readonly%20https%3a%2f%2fwww.googleapis.com%2fauth%2fpeopleapi.readonly\n",
            "\n",
            "Enter your authorization code:\n",
            "··········\n",
            "Mounted at /content/drive\n"
          ],
          "name": "stdout"
        }
      ]
    },
    {
      "cell_type": "code",
      "metadata": {
        "id": "X5mnfSPGPzTA",
        "colab_type": "code",
        "outputId": "b7150141-0558-418a-d740-49931fa5514a",
        "colab": {
          "base_uri": "https://localhost:8080/",
          "height": 34
        }
      },
      "source": [
        "data = np.load('/content/drive/My Drive/histos_tba.20.npz')\n",
        "data.files"
      ],
      "execution_count": 3,
      "outputs": [
        {
          "output_type": "execute_result",
          "data": {
            "text/plain": [
              "['variables', 'parameters']"
            ]
          },
          "metadata": {
            "tags": []
          },
          "execution_count": 3
        }
      ]
    },
    {
      "cell_type": "code",
      "metadata": {
        "id": "JRlcYQETPzTL",
        "colab_type": "code",
        "outputId": "0f298364-dabf-4d41-b5f2-38d2057a855b",
        "colab": {
          "base_uri": "https://localhost:8080/",
          "height": 52
        }
      },
      "source": [
        "variables = data['variables']\n",
        "print(variables.shape)\n",
        "parameters = data['parameters']\n",
        "print(parameters.shape)"
      ],
      "execution_count": 4,
      "outputs": [
        {
          "output_type": "stream",
          "text": [
            "(3272341, 87)\n",
            "(3272341, 3)\n"
          ],
          "name": "stdout"
        }
      ]
    },
    {
      "cell_type": "code",
      "metadata": {
        "id": "bXfehXPnPzTl",
        "colab_type": "code",
        "colab": {}
      },
      "source": [
        "# since we only care about the q/pt, drop phi and eta angle\n",
        "parameters = parameters[:,1]\n",
        "# set all NaN to 0\n",
        "variables = np.nan_to_num(variables)\n",
        "parameters = np.nan_to_num(parameters)"
      ],
      "execution_count": 0,
      "outputs": []
    },
    {
      "cell_type": "code",
      "metadata": {
        "id": "aL8CrsSCPzTz",
        "colab_type": "code",
        "outputId": "444a3a40-c898-4b4d-9be6-97b980f7df33",
        "colab": {
          "base_uri": "https://localhost:8080/",
          "height": 122
        }
      },
      "source": [
        "print(variables[1,:20])\n",
        "print(parameters[1:20])"
      ],
      "execution_count": 6,
      "outputs": [
        {
          "output_type": "stream",
          "text": [
            "[2865.    0. 2622. 2608.    0.    0.    0. 2604. 2600.    0. 2661. 2937.\n",
            "    7.    0.    6.    6.    0.    0.    0.    8.]\n",
            "[ 3.0257308   3.1199055  -3.0759358  -0.47497758 -0.16713923  2.57163\n",
            "  2.725565    2.4318233  -1.3433052  -3.1344328  -1.6402272  -0.43685243\n",
            " -2.8282223  -0.8729258   2.2309427  -3.1097283   0.7452868   2.0010202\n",
            "  0.9158598 ]\n"
          ],
          "name": "stdout"
        }
      ]
    },
    {
      "cell_type": "code",
      "metadata": {
        "id": "nhWWYEzYx_ET",
        "colab_type": "code",
        "colab": {}
      },
      "source": [
        ""
      ],
      "execution_count": 0,
      "outputs": []
    },
    {
      "cell_type": "code",
      "metadata": {
        "id": "qgi59UgcmsZA",
        "colab_type": "code",
        "outputId": "e05212c5-c65c-45c4-a4da-7cffd3db5203",
        "colab": {
          "base_uri": "https://localhost:8080/",
          "height": 212
        }
      },
      "source": [
        "print(variables[:20,3])\n",
        "variables = preprocessing.scale(variables)\n",
        "print(variables[:20,3])"
      ],
      "execution_count": 7,
      "outputs": [
        {
          "output_type": "stream",
          "text": [
            "[3568. 2608. 1440. 3328. 4648. 4024.    0. 3808. 3976. 1872. 4098. 1532.\n",
            " 3336. 2168.    0.    0.    0.    0. 2818.    0.]\n"
          ],
          "name": "stdout"
        },
        {
          "output_type": "stream",
          "text": [
            "/usr/local/lib/python3.6/dist-packages/sklearn/preprocessing/_data.py:173: UserWarning: Numerical issues were encountered when centering the data and might not be solved. Dataset may contain too large values. You may need to prescale your features.\n",
            "  warnings.warn(\"Numerical issues were encountered \"\n"
          ],
          "name": "stderr"
        },
        {
          "output_type": "stream",
          "text": [
            "[ 0.8344433   0.1998117  -0.5723234   0.67578536  1.5484037   1.1358933\n",
            " -1.5242707   0.9931012   1.1041617  -0.28673917  1.1848129  -0.51150453\n",
            "  0.681074   -0.09106109 -1.5242707  -1.5242707  -1.5242707  -1.5242707\n",
            "  0.33863735 -1.5242707 ]\n"
          ],
          "name": "stdout"
        },
        {
          "output_type": "stream",
          "text": [
            "/usr/local/lib/python3.6/dist-packages/sklearn/preprocessing/_data.py:190: UserWarning: Numerical issues were encountered when scaling the data and might not be solved. The standard deviation of the data is probably very close to 0. \n",
            "  warnings.warn(\"Numerical issues were encountered \"\n"
          ],
          "name": "stderr"
        }
      ]
    },
    {
      "cell_type": "code",
      "metadata": {
        "id": "cteZxDYzPzUe",
        "colab_type": "code",
        "outputId": "153f53fa-4339-44f6-fe00-8f2084279d63",
        "colab": {
          "base_uri": "https://localhost:8080/",
          "height": 87
        }
      },
      "source": [
        "# since q = +-1, get 1/pt from q/pt by abs(q/pt)\n",
        "parameters = np.absolute(parameters)\n",
        "print(parameters[1:20])"
      ],
      "execution_count": 8,
      "outputs": [
        {
          "output_type": "stream",
          "text": [
            "[3.0257308  3.1199055  3.0759358  0.47497758 0.16713923 2.57163\n",
            " 2.725565   2.4318233  1.3433052  3.1344328  1.6402272  0.43685243\n",
            " 2.8282223  0.8729258  2.2309427  3.1097283  0.7452868  2.0010202\n",
            " 0.9158598 ]\n"
          ],
          "name": "stdout"
        }
      ]
    },
    {
      "cell_type": "code",
      "metadata": {
        "id": "OvCfGmokPzUm",
        "colab_type": "code",
        "outputId": "49049f52-e66b-4825-b795-158135e7a025",
        "colab": {
          "base_uri": "https://localhost:8080/",
          "height": 87
        }
      },
      "source": [
        "# get pt from 1/pt\n",
        "pt = 1.0 / parameters\n",
        "print(parameters[1:20])"
      ],
      "execution_count": 9,
      "outputs": [
        {
          "output_type": "stream",
          "text": [
            "[3.0257308  3.1199055  3.0759358  0.47497758 0.16713923 2.57163\n",
            " 2.725565   2.4318233  1.3433052  3.1344328  1.6402272  0.43685243\n",
            " 2.8282223  0.8729258  2.2309427  3.1097283  0.7452868  2.0010202\n",
            " 0.9158598 ]\n"
          ],
          "name": "stdout"
        }
      ]
    },
    {
      "cell_type": "code",
      "metadata": {
        "id": "cEZ8-99bPzVB",
        "colab_type": "code",
        "outputId": "1be8e0a1-076a-485c-d35e-68b51bd97567",
        "colab": {
          "base_uri": "https://localhost:8080/",
          "height": 349
        }
      },
      "source": [
        "# convert pt to class\n",
        "pt_class = np.zeros((3272341, 1))\n",
        "pt_class[np.logical_and(0 <= pt, pt < 10)] = 0\n",
        "pt_class[np.logical_and(10 <= pt, pt < 30)] = 1\n",
        "pt_class[np.logical_and(30 <= pt, pt < 100)] = 2\n",
        "pt_class[100 <= pt] = 3\n",
        "print(pt_class[1:20])"
      ],
      "execution_count": 10,
      "outputs": [
        {
          "output_type": "stream",
          "text": [
            "[[0.]\n",
            " [0.]\n",
            " [0.]\n",
            " [0.]\n",
            " [0.]\n",
            " [0.]\n",
            " [0.]\n",
            " [0.]\n",
            " [0.]\n",
            " [0.]\n",
            " [0.]\n",
            " [0.]\n",
            " [0.]\n",
            " [0.]\n",
            " [0.]\n",
            " [0.]\n",
            " [0.]\n",
            " [0.]\n",
            " [0.]]\n"
          ],
          "name": "stdout"
        }
      ]
    },
    {
      "cell_type": "code",
      "metadata": {
        "id": "OUaylOH0tZzd",
        "colab_type": "code",
        "outputId": "92521053-b5d4-4935-b8ee-0a889eed6073",
        "colab": {
          "base_uri": "https://localhost:8080/",
          "height": 34
        }
      },
      "source": [
        "variables = np.concatenate((variables, pt_class), axis=1)\n",
        "print(variables.shape)"
      ],
      "execution_count": 11,
      "outputs": [
        {
          "output_type": "stream",
          "text": [
            "(3272341, 88)\n"
          ],
          "name": "stdout"
        }
      ]
    },
    {
      "cell_type": "code",
      "metadata": {
        "id": "Qmo0U498hG1W",
        "colab_type": "code",
        "outputId": "ca1ca4c4-ebf0-4e78-94e4-479556c337ba",
        "colab": {
          "base_uri": "https://localhost:8080/",
          "height": 52
        }
      },
      "source": [
        "#find dataset very unbalanced, tyy upsampling\n",
        "print(np.count_nonzero(pt_class==0), \n",
        "      np.count_nonzero(pt_class==1), \n",
        "      np.count_nonzero(pt_class==2), \n",
        "      np.count_nonzero(pt_class==3))\n",
        "print(np.count_nonzero(pt_class==0) / len(variables), \n",
        "      np.count_nonzero(pt_class==1) / len(variables), \n",
        "      np.count_nonzero(pt_class==2) / len(variables), \n",
        "      np.count_nonzero(pt_class==3) / len(variables))"
      ],
      "execution_count": 12,
      "outputs": [
        {
          "output_type": "stream",
          "text": [
            "3168598 68912 24373 10458\n",
            "0.9682970081663249 0.021058929983152733 0.007448184648238066 0.0031958772022842364\n"
          ],
          "name": "stdout"
        }
      ]
    },
    {
      "cell_type": "markdown",
      "metadata": {
        "id": "8eFpGbIJjb2c",
        "colab_type": "text"
      },
      "source": [
        "### Upsampling Biased Dataset\n",
        "Downsampling a bit as well to save RAM"
      ]
    },
    {
      "cell_type": "code",
      "metadata": {
        "id": "6n1InKZ1jg_H",
        "colab_type": "code",
        "outputId": "9cc8413a-b6fc-4e26-e983-6f5fd2da22d9",
        "colab": {
          "base_uri": "https://localhost:8080/",
          "height": 52
        }
      },
      "source": [
        "class_zero = variables[(pt_class == 0).ravel(),:]\n",
        "class_zero = class_zero[:1000000, :]\n",
        "\n",
        "class_one = variables[(pt_class == 1).ravel(),:]\n",
        "class_two = variables[(pt_class == 2).ravel(),:]\n",
        "class_three = variables[(pt_class == 3).ravel(),:]\n",
        "\n",
        "print(class_zero.shape, class_one.shape, class_two.shape, class_three.shape)\n",
        "\n",
        "class_one = np.tile(class_one, ( int(class_zero.shape[0] / class_one.shape[0]), 1))\n",
        "class_two = np.tile(class_two, ( int(class_zero.shape[0] / class_two.shape[0]), 1))\n",
        "class_three = np.tile(class_three, ( int(class_zero.shape[0] / class_three.shape[0]), 1))\n",
        "\n",
        "print(class_zero.shape, class_one.shape, class_two.shape, class_three.shape)\n",
        "\n"
      ],
      "execution_count": 13,
      "outputs": [
        {
          "output_type": "stream",
          "text": [
            "(1000000, 88) (68912, 88) (24373, 88) (10458, 88)\n",
            "(1000000, 88) (964768, 88) (999293, 88) (993510, 88)\n"
          ],
          "name": "stdout"
        }
      ]
    },
    {
      "cell_type": "code",
      "metadata": {
        "id": "N8zmi-Kfr1EE",
        "colab_type": "code",
        "outputId": "38fc2855-a268-4d26-a4b3-4ec92ccabc26",
        "colab": {
          "base_uri": "https://localhost:8080/",
          "height": 34
        }
      },
      "source": [
        "new_variables = np.concatenate((class_zero, class_one, class_two, class_three), axis=0)\n",
        "print(new_variables.shape)"
      ],
      "execution_count": 14,
      "outputs": [
        {
          "output_type": "stream",
          "text": [
            "(3957571, 88)\n"
          ],
          "name": "stdout"
        }
      ]
    },
    {
      "cell_type": "code",
      "metadata": {
        "id": "RnJnx3WKvHoi",
        "colab_type": "code",
        "outputId": "bb1f015e-ec90-4c5f-b24b-653a30d41a46",
        "colab": {
          "base_uri": "https://localhost:8080/",
          "height": 402
        }
      },
      "source": [
        "print(new_variables[1,:])"
      ],
      "execution_count": 15,
      "outputs": [
        {
          "output_type": "stream",
          "text": [
            "[ 5.17105103e-01 -5.60436964e-01  1.13634519e-01  1.99811697e-01\n",
            " -1.37428224e+00 -4.39748555e-01 -4.14589882e-01  1.48011073e-01\n",
            "  3.05932045e-01 -8.44235420e-01  5.73869765e-01  1.41708386e+00\n",
            " -6.76860273e-01 -5.96212268e-01 -9.76999223e-01 -8.77977192e-01\n",
            " -1.08148444e+00 -4.69723225e-01 -4.40024763e-01 -8.34744394e-01\n",
            " -6.90945923e-01 -8.57729733e-01 -4.58291233e-01  4.25719649e-01\n",
            " -1.31223953e+00  1.95743260e-03 -7.29299756e-03 -1.87553349e-03\n",
            " -3.86041566e-03  0.00000000e+00  0.00000000e+00  0.00000000e+00\n",
            "  0.00000000e+00 -6.08361675e-04  5.95898135e-04 -2.47023511e+00\n",
            "  1.05663054e-01  8.87512267e-02  1.40661880e-01  1.40437290e-01\n",
            "  1.13052219e-01  0.00000000e+00  0.00000000e+00  0.00000000e+00\n",
            "  0.00000000e+00  0.00000000e+00  0.00000000e+00  0.00000000e+00\n",
            "  1.52050591e+00 -6.06406093e-01 -8.96736979e-02 -8.51297379e-02\n",
            " -1.41177535e+00 -4.78252023e-01 -4.44178402e-01 -2.81151235e-01\n",
            " -1.56040117e-01 -9.35597599e-01  8.02693248e-01  1.40748906e+00\n",
            " -7.34001040e-01 -3.81279320e-01 -8.70449364e-01  1.21548295e+00\n",
            " -7.82568634e-01 -3.10886115e-01 -2.95527607e-01  1.01247203e+00\n",
            "  1.14209747e+00 -5.63762486e-01 -6.53410971e-01 -4.41885561e-01\n",
            " -6.51325166e-01  6.06406093e-01 -4.13650006e-01 -5.12087286e-01\n",
            "  1.71263540e+00  4.78252023e-01  4.44178402e-01 -4.54392254e-01\n",
            " -6.08109772e-01  9.35597539e-01 -8.02693248e-01 -1.40748906e+00\n",
            "  1.54516459e+00 -1.22869456e+00 -1.86793715e-01  0.00000000e+00]\n"
          ],
          "name": "stdout"
        }
      ]
    },
    {
      "cell_type": "markdown",
      "metadata": {
        "id": "hfb6vjjlPzVe",
        "colab_type": "text"
      },
      "source": [
        "### Data Loader"
      ]
    },
    {
      "cell_type": "code",
      "metadata": {
        "id": "Snb_RW_5PzVY",
        "colab_type": "code",
        "colab": {}
      },
      "source": [
        "np.random.shuffle(new_variables)"
      ],
      "execution_count": 0,
      "outputs": []
    },
    {
      "cell_type": "code",
      "metadata": {
        "id": "AvSZK1x_PzVh",
        "colab_type": "code",
        "colab": {}
      },
      "source": [
        "from torch.utils.data import Dataset, DataLoader\n",
        "import torch\n",
        "import torchvision\n",
        "import torchvision.transforms as transforms"
      ],
      "execution_count": 0,
      "outputs": []
    },
    {
      "cell_type": "code",
      "metadata": {
        "id": "BXCYNPRMPzVq",
        "colab_type": "code",
        "colab": {}
      },
      "source": [
        "class MuonDataset(Dataset):\n",
        "    def __init__(self, feature, label, transform=None):\n",
        "        self.feature = feature\n",
        "        self.label = label\n",
        "        self.transform = transform\n",
        "\n",
        "    def __len__(self):\n",
        "        return len(self.feature)\n",
        "\n",
        "    def __getitem__(self, idx):\n",
        "        feature = torch.tensor(self.feature[idx], dtype=torch.float32)\n",
        "        label = torch.tensor(self.label[idx], dtype=torch.long)\n",
        "        if self.transform is not None:\n",
        "            self.feature = self.transform(self.feature)\n",
        "        sample = {'feature': feature, 'label': label}\n",
        "        return sample"
      ],
      "execution_count": 0,
      "outputs": []
    },
    {
      "cell_type": "code",
      "metadata": {
        "id": "SwUpz5cyPzXV",
        "colab_type": "code",
        "colab": {}
      },
      "source": [
        "def data_loader(train_feature, train_lable, test_feature, test_label):\n",
        "    # define a trainset\n",
        "    trainset = MuonDataset(train_feature, train_lable)\n",
        "    print(trainset)\n",
        "    # define a trainloader\n",
        "    trainloader = DataLoader(dataset=trainset, batch_size=batch_size, shuffle=True)\n",
        "    # define a testset\n",
        "    testset = MuonDataset(test_feature, test_label)\n",
        "    # define a testloader\n",
        "    testloader = DataLoader(dataset=testset, batch_size=batch_size, shuffle=False)\n",
        "\n",
        "    return trainloader, testloader"
      ],
      "execution_count": 0,
      "outputs": []
    },
    {
      "cell_type": "markdown",
      "metadata": {
        "id": "f7zINHIDPzWF",
        "colab_type": "text"
      },
      "source": [
        "### Train Visualization"
      ]
    },
    {
      "cell_type": "code",
      "metadata": {
        "id": "ruZoVBeCPzWJ",
        "colab_type": "code",
        "colab": {}
      },
      "source": [
        "import matplotlib.pyplot as plt"
      ],
      "execution_count": 0,
      "outputs": []
    },
    {
      "cell_type": "code",
      "metadata": {
        "id": "RVCqo0fwPzWd",
        "colab_type": "code",
        "colab": {}
      },
      "source": [
        "def show_curve(ys, title):\n",
        "    x = np.array(range(len(ys)))\n",
        "    y = np.array(ys)\n",
        "    plt.plot(x, y, c='b')\n",
        "    plt.axis()\n",
        "    plt.title('{} Curve:'.format(title))\n",
        "    plt.xlabel('Epoch')\n",
        "    plt.ylabel('{} Value'.format(title))\n",
        "    plt.show()"
      ],
      "execution_count": 0,
      "outputs": []
    },
    {
      "cell_type": "markdown",
      "metadata": {
        "id": "bkp7UQ7wPzWy",
        "colab_type": "text"
      },
      "source": [
        "## Task 1: Muon Momentum Interfaces"
      ]
    },
    {
      "cell_type": "markdown",
      "metadata": {
        "id": "CLOmJdyCPzW2",
        "colab_type": "text"
      },
      "source": [
        "### Fully Connected Net"
      ]
    },
    {
      "cell_type": "code",
      "metadata": {
        "id": "hDWKgA-QPzW3",
        "colab_type": "code",
        "colab": {}
      },
      "source": [
        "import torchvision\n",
        "import torch\n",
        "import torch.nn as nn\n",
        "import torch.optim as optim\n",
        "from torch.autograd import Variable\n",
        "import torch.nn.functional as F"
      ],
      "execution_count": 0,
      "outputs": []
    },
    {
      "cell_type": "code",
      "metadata": {
        "id": "OyFgKMfrPzXD",
        "colab_type": "code",
        "colab": {}
      },
      "source": [
        "class FCNetwork(nn.Module):\n",
        "    def __init__(self, n_feature, n_hidden, n_output):\n",
        "        '''\n",
        "        Args:\n",
        "        n_feature(int): size of input tensor\n",
        "        n_hidden(int): size of hidden layer\n",
        "        n_output(int): size of output tensor\n",
        "        '''\n",
        "        super().__init__()\n",
        "        self.fc1 = nn.Linear(n_feature, n_hidden)\n",
        "        self.bn1 = nn.BatchNorm1d(n_hidden)\n",
        "        self.fc2 = nn.Linear(n_hidden, n_hidden)\n",
        "        self.bn2 = nn.BatchNorm1d(n_hidden)\n",
        "        self.fc3 = nn.Linear(n_hidden, n_hidden)\n",
        "        self.bn3 = nn.BatchNorm1d(n_hidden)\n",
        "        self.predict = nn.Linear(n_hidden, n_output)\n",
        "    \n",
        "    def forward(self, x):\n",
        "        '''\n",
        "        x(tensor): inputs of the network\n",
        "        '''\n",
        "        out = F.relu(self.fc1(x))\n",
        "        out = self.bn1(out)\n",
        "        out = F.relu(self.fc2(out))\n",
        "        out = self.bn2(out)\n",
        "        out = F.relu(self.fc3(out))\n",
        "        out = self.bn3(out)\n",
        "        out = self.predict(out)\n",
        "        return F.softmax(out)"
      ],
      "execution_count": 0,
      "outputs": []
    },
    {
      "cell_type": "code",
      "metadata": {
        "id": "h8TyJMw0PzXO",
        "colab_type": "code",
        "colab": {}
      },
      "source": [
        "def train(epoch, model, lossFunction, optimizer, device, trainloader):\n",
        "    \"\"\"train model using loss_fn and optimizer. When this function is called, model trains for one epoch.\n",
        "    Args:\n",
        "        train_loader: train data\n",
        "        model: prediction model\n",
        "        loss_fn: loss function to judge the distance between target and outputs\n",
        "        optimizer: optimize the loss function\n",
        "        get_grad: True, False\n",
        "    output:\n",
        "        total_loss: loss\n",
        "        average_grad2: average grad for hidden 2 in this epoch\n",
        "        average_grad3: average grad for hidden 3 in this epoch\n",
        "    \"\"\"\n",
        "    print('\\nEpoch: %d' % epoch)\n",
        "    model.train()     # enter train mode\n",
        "    train_loss = 0    # accumulate every batch loss in a epoch\n",
        "    correct = 0       # count when model' prediction is correct i train set\n",
        "    total = 0         # total number of prediction in train set\n",
        "    for batch_idx, data in enumerate(trainloader):\n",
        "        inputs, targets = data['feature'], data['label']\n",
        "        inputs, targets = inputs.to(device), targets.to(device) # load data to gpu device\n",
        "        inputs, targets = Variable(inputs), Variable(targets)\n",
        "        optimizer.zero_grad()            # clear gradients of all optimized torch.Tensors'\n",
        "        outputs = model(inputs)          # forward propagation return the value of softmax function\n",
        "        #print('target', targets)\n",
        "        targets = targets.squeeze_()\n",
        "        loss = lossFunction(outputs, targets) #compute loss\n",
        "        loss.backward()                  # compute gradient of loss over parameters \n",
        "        optimizer.step()                 # update parameters with gradient descent \n",
        "\n",
        "        train_loss += loss.item()        # accumulate every batch loss in a epoch\n",
        "        _, predicted = outputs.max(1)    # make prediction according to the outputs\n",
        "        total += targets.size(0)\n",
        "        correct += predicted.eq(targets).sum().item() # count how many predictions is correct\n",
        "        \n",
        "    print( 'Train loss: %.3f | Train Acc: %.3f%% (%d/%d)'\n",
        "                % (train_loss/(batch_idx+1), 100.*correct/total, correct, total))\n",
        "    train_loss = train_loss/(batch_idx+1)\n",
        "    \n",
        "    return train_loss\n",
        "    \n",
        "    \n",
        "def test(model, lossFunction, optimizer, device, testloader):\n",
        "    \"\"\"\n",
        "    test model's prediction performance on loader.  \n",
        "    When thid function is called, model is evaluated.\n",
        "    Args:\n",
        "        loader: data for evaluation\n",
        "        model: prediction model\n",
        "        loss_fn: loss function to judge the distance between target and outputs\n",
        "    output:\n",
        "        total_loss\n",
        "        accuracy\n",
        "    \"\"\"\n",
        "    model.eval() #enter test mode\n",
        "    test_loss = 0 # accumulate every batch loss in a epoch\n",
        "    correct = 0\n",
        "    total = 0\n",
        "    with torch.no_grad():\n",
        "        for batch_idx, data in enumerate(testloader):\n",
        "            inputs, targets = data['feature'], data['label']\n",
        "            inputs, targets = inputs.to(device), targets.to(device)\n",
        "            outputs = model(inputs)\n",
        "            targets = targets.squeeze_()\n",
        "            loss = lossFunction(outputs, targets) #compute loss\n",
        "\n",
        "            test_loss += loss.item() # accumulate every batch loss in a epoch\n",
        "            _, predicted = outputs.max(1) # make prediction according to the outputs\n",
        "            total += targets.size(0)\n",
        "            correct += predicted.eq(targets).sum().item() # count how many predictions is correct\n",
        "        # print loss and acc\n",
        "        print('Test Loss: %.3f  | Test Acc: %.3f%% (%d/%d)'\n",
        "            % (test_loss/(batch_idx+1), 100.*correct/total, correct, total))\n",
        "        test_loss = test_loss/(batch_idx+1)\n",
        "        \n",
        "    return test_loss"
      ],
      "execution_count": 0,
      "outputs": []
    },
    {
      "cell_type": "code",
      "metadata": {
        "id": "DKTo-TINPzXe",
        "colab_type": "code",
        "colab": {}
      },
      "source": [
        "def run(model, num_epochs, optimizer, trainloader, testloader, device='cpu', lossFunction=nn.CrossEntropyLoss(), lr=0.01):\n",
        "    device = 'cuda' if torch.cuda.is_available() else 'cpu'\n",
        "    model.to(device)\n",
        "    if device == 'cuda':\n",
        "        model = torch.nn.DataParallel(model)\n",
        "        torch.backends.cudnn.benchmark=True\n",
        "\n",
        "    train_loss_list = []\n",
        "    test_loss_list = []\n",
        "\n",
        "    for epoch in range(num_epochs):\n",
        "        train_loss_list.append(train(epoch, model, lossFunction, optimizer, device, trainloader))\n",
        "        test_loss_list.append(test(model, lossFunction, optimizer, device, testloader))\n",
        "\n",
        "    return train_loss_list, test_loss_list"
      ],
      "execution_count": 0,
      "outputs": []
    },
    {
      "cell_type": "code",
      "metadata": {
        "id": "81_obfkZ0TkF",
        "colab_type": "code",
        "outputId": "9608db80-df42-49ab-91d5-4b311c6f062b",
        "colab": {
          "base_uri": "https://localhost:8080/",
          "height": 34
        }
      },
      "source": [
        "# traninset(size=3,000,000) and testset(size=957571)\n",
        "train_feature = new_variables[0:3000000, :-1]\n",
        "train_lable = new_variables[:3000000, -1]\n",
        "test_feature = new_variables[3000000:, :-1]\n",
        "test_label = new_variables[3000000:, -1]\n",
        "\n",
        "print(train_feature.shape, train_lable.shape, test_feature.shape, test_label.shape)"
      ],
      "execution_count": 0,
      "outputs": [
        {
          "output_type": "stream",
          "text": [
            "(3000000, 87) (3000000,) (957571, 87) (957571,)\n"
          ],
          "name": "stdout"
        }
      ]
    },
    {
      "cell_type": "code",
      "metadata": {
        "id": "VJ5wOpDFSneJ",
        "colab_type": "code",
        "outputId": "109f87a5-d5ea-4f38-8533-509db51669b7",
        "colab": {
          "base_uri": "https://localhost:8080/",
          "height": 192
        }
      },
      "source": [
        "num_epochs = 10\n",
        "batch_size = 256\n",
        "lr = 0.1\n",
        "trainloader, testloader = data_loader(train_feature, train_lable, test_feature, test_label)\n",
        "device='cpu'\n",
        "lossFunction = nn.CrossEntropyLoss()\n",
        "model = FCNetwork(87, 100, 4)\n",
        "optimizer = optim.SGD(model.parameters(), lr=lr, momentum=0.9, weight_decay=5e-4)\n",
        "\n",
        "print(model)"
      ],
      "execution_count": 0,
      "outputs": [
        {
          "output_type": "stream",
          "text": [
            "<__main__.MuonDataset object at 0x7feb20971438>\n",
            "FCNetwork(\n",
            "  (fc1): Linear(in_features=87, out_features=100, bias=True)\n",
            "  (bn1): BatchNorm1d(100, eps=1e-05, momentum=0.1, affine=True, track_running_stats=True)\n",
            "  (fc2): Linear(in_features=100, out_features=100, bias=True)\n",
            "  (bn2): BatchNorm1d(100, eps=1e-05, momentum=0.1, affine=True, track_running_stats=True)\n",
            "  (fc3): Linear(in_features=100, out_features=100, bias=True)\n",
            "  (bn3): BatchNorm1d(100, eps=1e-05, momentum=0.1, affine=True, track_running_stats=True)\n",
            "  (predict): Linear(in_features=100, out_features=4, bias=True)\n",
            ")\n"
          ],
          "name": "stdout"
        }
      ]
    },
    {
      "cell_type": "code",
      "metadata": {
        "id": "tc09V0h1PzX6",
        "colab_type": "code",
        "outputId": "2feb34eb-0a38-42e2-9ef7-535b9ea414b6",
        "colab": {
          "base_uri": "https://localhost:8080/",
          "height": 1000
        }
      },
      "source": [
        "train_loss_list, test_loss_list = run(model, num_epochs, optimizer, trainloader, testloader, device, lossFunction, lr)\n",
        "show_curve(train_loss_list, 'train_loss')\n",
        "show_curve(test_loss_list, 'test_loss')"
      ],
      "execution_count": 0,
      "outputs": [
        {
          "output_type": "stream",
          "text": [
            "\n",
            "Epoch: 0\n"
          ],
          "name": "stdout"
        },
        {
          "output_type": "stream",
          "text": [
            "/usr/local/lib/python3.6/dist-packages/ipykernel_launcher.py:29: UserWarning: Implicit dimension choice for softmax has been deprecated. Change the call to include dim=X as an argument.\n"
          ],
          "name": "stderr"
        },
        {
          "output_type": "stream",
          "text": [
            "Train loss: 1.204 | Train Acc: 49.758% (1492726/3000000)\n",
            "Test Loss: 1.226  | Test Acc: 46.962% (449698/957571)\n",
            "\n",
            "Epoch: 1\n",
            "Train loss: 1.199 | Train Acc: 50.259% (1507781/3000000)\n",
            "Test Loss: 1.214  | Test Acc: 48.091% (460509/957571)\n",
            "\n",
            "Epoch: 2\n",
            "Train loss: 1.200 | Train Acc: 50.100% (1502986/3000000)\n",
            "Test Loss: 1.195  | Test Acc: 50.386% (482477/957571)\n",
            "\n",
            "Epoch: 3\n",
            "Train loss: 1.200 | Train Acc: 50.126% (1503767/3000000)\n",
            "Test Loss: 1.213  | Test Acc: 48.752% (466832/957571)\n",
            "\n",
            "Epoch: 4\n",
            "Train loss: 1.200 | Train Acc: 50.163% (1504899/3000000)\n",
            "Test Loss: 1.200  | Test Acc: 50.314% (481796/957571)\n",
            "\n",
            "Epoch: 5\n",
            "Train loss: 1.200 | Train Acc: 50.106% (1503168/3000000)\n",
            "Test Loss: 1.202  | Test Acc: 49.665% (475580/957571)\n",
            "\n",
            "Epoch: 6\n",
            "Train loss: 1.200 | Train Acc: 50.042% (1501254/3000000)\n",
            "Test Loss: 1.199  | Test Acc: 50.034% (479109/957571)\n",
            "\n",
            "Epoch: 7\n",
            "Train loss: 1.201 | Train Acc: 50.011% (1500345/3000000)\n",
            "Test Loss: 1.199  | Test Acc: 50.339% (482036/957571)\n",
            "\n",
            "Epoch: 8\n",
            "Train loss: 1.201 | Train Acc: 49.953% (1498599/3000000)\n",
            "Test Loss: 1.201  | Test Acc: 49.790% (476778/957571)\n",
            "\n",
            "Epoch: 9\n",
            "Train loss: 1.201 | Train Acc: 49.950% (1498494/3000000)\n",
            "Test Loss: 1.189  | Test Acc: 51.584% (493958/957571)\n"
          ],
          "name": "stdout"
        },
        {
          "output_type": "display_data",
          "data": {
            "image/png": "[encoded data removed]",
            "text/plain": [
              "<Figure size 432x288 with 1 Axes>"
            ]
          },
          "metadata": {
            "tags": []
          }
        },
        {
          "output_type": "display_data",
          "data": {
            "image/png": "[encoded data removed]",
            "text/plain": [
              "<Figure size 432x288 with 1 Axes>"
            ]
          },
          "metadata": {
            "tags": []
          }
        }
      ]
    },
    {
      "cell_type": "code",
      "metadata": {
        "id": "L0Fz3siWwAtM",
        "colab_type": "code",
        "outputId": "8c8b76ce-b018-4100-d80f-e0584a326ccb",
        "colab": {
          "base_uri": "https://localhost:8080/",
          "height": 209
        }
      },
      "source": [
        "train_feature = new_variables[0:1000, :-1]\n",
        "train_lable = new_variables[:1000, -1]\n",
        "test_feature = new_variables[1000:1200, :-1]\n",
        "test_label = new_variables[1000:1200, -1]\n",
        "\n",
        "print(train_feature.shape, train_lable.shape, test_feature.shape, test_label.shape)\n",
        "trainloader, testloader = data_loader(train_feature, train_lable, test_feature, test_label)\n",
        "\n",
        "num_epochs = 40\n",
        "batch_size = 256\n",
        "lr = 0.1\n",
        "\n",
        "device='cpu'\n",
        "lossFunction = nn.CrossEntropyLoss()\n",
        "model = FCNetwork(87, 100, 4)\n",
        "optimizer = optim.SGD(model.parameters(), lr=lr, momentum=0.9, weight_decay=5e-4)\n",
        "print(model)"
      ],
      "execution_count": 0,
      "outputs": [
        {
          "output_type": "stream",
          "text": [
            "(1000, 87) (1000,) (200, 87) (200,)\n",
            "<__main__.MuonDataset object at 0x7feb18118b70>\n",
            "FCNetwork(\n",
            "  (fc1): Linear(in_features=87, out_features=100, bias=True)\n",
            "  (bn1): BatchNorm1d(100, eps=1e-05, momentum=0.1, affine=True, track_running_stats=True)\n",
            "  (fc2): Linear(in_features=100, out_features=100, bias=True)\n",
            "  (bn2): BatchNorm1d(100, eps=1e-05, momentum=0.1, affine=True, track_running_stats=True)\n",
            "  (fc3): Linear(in_features=100, out_features=100, bias=True)\n",
            "  (bn3): BatchNorm1d(100, eps=1e-05, momentum=0.1, affine=True, track_running_stats=True)\n",
            "  (predict): Linear(in_features=100, out_features=4, bias=True)\n",
            ")\n"
          ],
          "name": "stdout"
        }
      ]
    },
    {
      "cell_type": "code",
      "metadata": {
        "id": "M9Vcjd2YwOHY",
        "colab_type": "code",
        "outputId": "d68fcd98-d4c2-427c-e989-f37de2450e2f",
        "colab": {
          "base_uri": "https://localhost:8080/",
          "height": 1000
        }
      },
      "source": [
        "train_loss_list, test_loss_list = run(model, num_epochs, optimizer, trainloader, testloader, device, lossFunction, lr)\n",
        "show_curve(train_loss_list, 'train_loss')\n",
        "show_curve(test_loss_list, 'test_loss')"
      ],
      "execution_count": 0,
      "outputs": [
        {
          "output_type": "stream",
          "text": [
            "\n",
            "Epoch: 0\n",
            "Train loss: 1.393 | Train Acc: 27.200% (272/1000)\n",
            "Test Loss: 1.387  | Test Acc: 22.000% (44/200)\n",
            "\n",
            "Epoch: 1\n",
            "Train loss: 1.357 | Train Acc: 38.700% (387/1000)\n",
            "Test Loss: 1.386  | Test Acc: 23.500% (47/200)\n",
            "\n",
            "Epoch: 2\n",
            "Train loss: 1.311 | Train Acc: 45.400% (454/1000)\n",
            "Test Loss: 1.383  | Test Acc: 28.000% (56/200)\n",
            "\n",
            "Epoch: 3\n",
            "Train loss: 1.264 | Train Acc: 51.600% (516/1000)\n",
            "Test Loss: 1.378  | Test Acc: 32.500% (65/200)\n",
            "\n",
            "Epoch: 4\n",
            "Train loss: 1.213 | Train Acc: 58.100% (581/1000)\n",
            "Test Loss: 1.374  | Test Acc: 30.500% (61/200)\n",
            "\n",
            "Epoch: 5\n",
            "Train loss: 1.160 | Train Acc: 61.800% (618/1000)\n",
            "Test Loss: 1.367  | Test Acc: 31.000% (62/200)\n",
            "\n",
            "Epoch: 6\n",
            "Train loss: 1.104 | Train Acc: 67.100% (671/1000)\n",
            "Test Loss: 1.375  | Test Acc: 30.500% (61/200)\n",
            "\n",
            "Epoch: 7\n"
          ],
          "name": "stdout"
        },
        {
          "output_type": "stream",
          "text": [
            "/usr/local/lib/python3.6/dist-packages/ipykernel_launcher.py:29: UserWarning: Implicit dimension choice for softmax has been deprecated. Change the call to include dim=X as an argument.\n"
          ],
          "name": "stderr"
        },
        {
          "output_type": "stream",
          "text": [
            "Train loss: 1.067 | Train Acc: 70.900% (709/1000)\n",
            "Test Loss: 1.375  | Test Acc: 33.500% (67/200)\n",
            "\n",
            "Epoch: 8\n",
            "Train loss: 1.033 | Train Acc: 74.300% (743/1000)\n",
            "Test Loss: 1.372  | Test Acc: 35.000% (70/200)\n",
            "\n",
            "Epoch: 9\n",
            "Train loss: 1.026 | Train Acc: 74.200% (742/1000)\n",
            "Test Loss: 1.422  | Test Acc: 27.000% (54/200)\n",
            "\n",
            "Epoch: 10\n",
            "Train loss: 1.015 | Train Acc: 74.600% (746/1000)\n",
            "Test Loss: 1.395  | Test Acc: 31.500% (63/200)\n",
            "\n",
            "Epoch: 11\n",
            "Train loss: 0.996 | Train Acc: 76.100% (761/1000)\n",
            "Test Loss: 1.398  | Test Acc: 32.000% (64/200)\n",
            "\n",
            "Epoch: 12\n",
            "Train loss: 0.983 | Train Acc: 77.900% (779/1000)\n",
            "Test Loss: 1.379  | Test Acc: 34.500% (69/200)\n",
            "\n",
            "Epoch: 13\n",
            "Train loss: 0.970 | Train Acc: 78.700% (787/1000)\n",
            "Test Loss: 1.387  | Test Acc: 32.000% (64/200)\n",
            "\n",
            "Epoch: 14\n",
            "Train loss: 0.972 | Train Acc: 78.900% (789/1000)\n",
            "Test Loss: 1.387  | Test Acc: 28.500% (57/200)\n",
            "\n",
            "Epoch: 15\n",
            "Train loss: 0.953 | Train Acc: 81.100% (811/1000)\n",
            "Test Loss: 1.362  | Test Acc: 35.500% (71/200)\n",
            "\n",
            "Epoch: 16\n",
            "Train loss: 0.955 | Train Acc: 80.400% (804/1000)\n",
            "Test Loss: 1.389  | Test Acc: 32.000% (64/200)\n",
            "\n",
            "Epoch: 17\n",
            "Train loss: 0.939 | Train Acc: 82.000% (820/1000)\n",
            "Test Loss: 1.372  | Test Acc: 34.500% (69/200)\n",
            "\n",
            "Epoch: 18\n",
            "Train loss: 0.922 | Train Acc: 84.000% (840/1000)\n",
            "Test Loss: 1.356  | Test Acc: 39.000% (78/200)\n",
            "\n",
            "Epoch: 19\n",
            "Train loss: 0.908 | Train Acc: 84.500% (845/1000)\n",
            "Test Loss: 1.342  | Test Acc: 38.500% (77/200)\n",
            "\n",
            "Epoch: 20\n",
            "Train loss: 0.902 | Train Acc: 85.100% (851/1000)\n",
            "Test Loss: 1.352  | Test Acc: 38.500% (77/200)\n",
            "\n",
            "Epoch: 21\n",
            "Train loss: 0.897 | Train Acc: 86.400% (864/1000)\n",
            "Test Loss: 1.360  | Test Acc: 35.000% (70/200)\n",
            "\n",
            "Epoch: 22\n",
            "Train loss: 0.896 | Train Acc: 86.000% (860/1000)\n",
            "Test Loss: 1.382  | Test Acc: 34.000% (68/200)\n",
            "\n",
            "Epoch: 23\n",
            "Train loss: 0.888 | Train Acc: 86.900% (869/1000)\n",
            "Test Loss: 1.345  | Test Acc: 36.500% (73/200)\n",
            "\n",
            "Epoch: 24\n",
            "Train loss: 0.882 | Train Acc: 87.000% (870/1000)\n",
            "Test Loss: 1.368  | Test Acc: 36.000% (72/200)\n",
            "\n",
            "Epoch: 25\n",
            "Train loss: 0.877 | Train Acc: 87.300% (873/1000)\n",
            "Test Loss: 1.389  | Test Acc: 33.000% (66/200)\n",
            "\n",
            "Epoch: 26\n",
            "Train loss: 0.868 | Train Acc: 88.500% (885/1000)\n",
            "Test Loss: 1.372  | Test Acc: 33.500% (67/200)\n",
            "\n",
            "Epoch: 27\n",
            "Train loss: 0.872 | Train Acc: 88.200% (882/1000)\n",
            "Test Loss: 1.371  | Test Acc: 34.500% (69/200)\n",
            "\n",
            "Epoch: 28\n",
            "Train loss: 0.866 | Train Acc: 88.600% (886/1000)\n",
            "Test Loss: 1.361  | Test Acc: 34.500% (69/200)\n",
            "\n",
            "Epoch: 29\n",
            "Train loss: 0.869 | Train Acc: 88.200% (882/1000)\n",
            "Test Loss: 1.397  | Test Acc: 33.000% (66/200)\n",
            "\n",
            "Epoch: 30\n",
            "Train loss: 0.864 | Train Acc: 88.900% (889/1000)\n",
            "Test Loss: 1.381  | Test Acc: 34.000% (68/200)\n",
            "\n",
            "Epoch: 31\n",
            "Train loss: 0.868 | Train Acc: 88.700% (887/1000)\n",
            "Test Loss: 1.413  | Test Acc: 30.500% (61/200)\n",
            "\n",
            "Epoch: 32\n",
            "Train loss: 0.862 | Train Acc: 88.700% (887/1000)\n",
            "Test Loss: 1.394  | Test Acc: 32.000% (64/200)\n",
            "\n",
            "Epoch: 33\n",
            "Train loss: 0.869 | Train Acc: 87.800% (878/1000)\n",
            "Test Loss: 1.375  | Test Acc: 35.000% (70/200)\n",
            "\n",
            "Epoch: 34\n",
            "Train loss: 0.869 | Train Acc: 87.900% (879/1000)\n",
            "Test Loss: 1.367  | Test Acc: 35.000% (70/200)\n",
            "\n",
            "Epoch: 35\n",
            "Train loss: 0.869 | Train Acc: 88.000% (880/1000)\n",
            "Test Loss: 1.390  | Test Acc: 32.500% (65/200)\n",
            "\n",
            "Epoch: 36\n",
            "Train loss: 0.861 | Train Acc: 88.900% (889/1000)\n",
            "Test Loss: 1.397  | Test Acc: 33.500% (67/200)\n",
            "\n",
            "Epoch: 37\n",
            "Train loss: 0.858 | Train Acc: 88.800% (888/1000)\n",
            "Test Loss: 1.391  | Test Acc: 33.500% (67/200)\n",
            "\n",
            "Epoch: 38\n",
            "Train loss: 0.853 | Train Acc: 89.700% (897/1000)\n",
            "Test Loss: 1.390  | Test Acc: 32.500% (65/200)\n",
            "\n",
            "Epoch: 39\n",
            "Train loss: 0.853 | Train Acc: 89.800% (898/1000)\n",
            "Test Loss: 1.387  | Test Acc: 33.500% (67/200)\n"
          ],
          "name": "stdout"
        },
        {
          "output_type": "display_data",
          "data": {
            "image/png": "[encoded data removed]",
            "text/plain": [
              "<Figure size 432x288 with 1 Axes>"
            ]
          },
          "metadata": {
            "tags": []
          }
        },
        {
          "output_type": "display_data",
          "data": {
            "image/png": "[encoded data removed]",
            "text/plain": [
              "<Figure size 432x288 with 1 Axes>"
            ]
          },
          "metadata": {
            "tags": []
          }
        }
      ]
    },
    {
      "cell_type": "code",
      "metadata": {
        "id": "IjP-iGg9wTT0",
        "colab_type": "code",
        "outputId": "4aa13f61-2acf-403d-a26d-eb1b7d71cf62",
        "colab": {
          "base_uri": "https://localhost:8080/",
          "height": 54
        }
      },
      "source": [
        "print(train_loss_list)"
      ],
      "execution_count": 0,
      "outputs": [
        {
          "output_type": "stream",
          "text": [
            "[5.5706236362457275, 5.427241921424866, 5.244492411613464, 5.054307341575623, 4.851099491119385, 4.638060092926025, 4.416297912597656, 4.267646551132202, 4.130563497543335, 4.1056495904922485, 4.058847486972809, 3.985668659210205, 3.933863580226898, 3.879664719104767, 3.886131763458252, 3.810802698135376, 3.8195087909698486, 3.756142258644104, 3.688505709171295, 3.630777657032013, 3.607713520526886, 3.5894875526428223, 3.582208216190338, 3.5521891713142395, 3.527062237262726, 3.507259428501129, 3.4716585874557495, 3.489542067050934, 3.4629783630371094, 3.4747731685638428, 3.457263469696045, 3.472905218601227, 3.446544587612152, 3.476712167263031, 3.477959096431732, 3.4744812846183777, 3.443164885044098, 3.433222472667694, 3.4138017296791077, 3.413780927658081]\n"
          ],
          "name": "stdout"
        }
      ]
    },
    {
      "cell_type": "markdown",
      "metadata": {
        "id": "mKgoLlrN8D-O",
        "colab_type": "text"
      },
      "source": [
        "### CNN (ResNet)\n"
      ]
    },
    {
      "cell_type": "code",
      "metadata": {
        "id": "HMCpAs7xKu8u",
        "colab_type": "code",
        "outputId": "65265624-8891-4440-a4c2-dc02e7fd722c",
        "colab": {
          "base_uri": "https://localhost:8080/",
          "height": 34
        }
      },
      "source": [
        "a = np.array(range(87))\n",
        "b = np.resize(a, 100)\n",
        "c = np.pad(np.reshape(b, (10,10)), (11, 11), 'reflect')\n",
        "print(c.shape)\n"
      ],
      "execution_count": 0,
      "outputs": [
        {
          "output_type": "stream",
          "text": [
            "(32, 32)\n"
          ],
          "name": "stdout"
        }
      ]
    },
    {
      "cell_type": "code",
      "metadata": {
        "id": "DxpVDB6MxMQU",
        "colab_type": "code",
        "colab": {}
      },
      "source": [
        "# construct Variable to a 10*10 2d array\n",
        "class Muon2dDataset(Dataset):\n",
        "    def __init__(self, feature, label, transform=None):\n",
        "        self.feature = feature\n",
        "        self.label = label\n",
        "        self.transform = transform\n",
        "\n",
        "    def __len__(self):\n",
        "        return len(self.feature)\n",
        "\n",
        "    def __getitem__(self, idx):\n",
        "        raw_feature = np.resize(self.feature[idx], 10*10)\n",
        "        raw_feature = np.pad(np.reshape(raw_feature, (10,10)), (11, 11), 'reflect')\n",
        "        feature = torch.tensor(np.reshape(raw_feature, (1,32,32)), dtype=torch.float32)\n",
        "        label = torch.tensor(self.label[idx], dtype=torch.long)\n",
        "        if self.transform is not None:\n",
        "            self.feature = self.transform(self.feature)\n",
        "        sample = {'feature': feature, 'label': label}\n",
        "        return sample"
      ],
      "execution_count": 0,
      "outputs": []
    },
    {
      "cell_type": "code",
      "metadata": {
        "id": "7lRcQ9D48Dms",
        "colab_type": "code",
        "colab": {}
      },
      "source": [
        "# Residual block (two 3*3 conv layers version)\n",
        "# 3x3 convolution\n",
        "def conv3x3(in_channels, out_channels, stride=1):\n",
        "    return nn.Conv2d(in_channels, out_channels, kernel_size=3, \n",
        "                     stride=stride, padding=1, bias=False)\n",
        "    \n",
        "class ResidualBlock(nn.Module):\n",
        "    def __init__(self, in_channels, out_channels, stride=1, downsample=None):\n",
        "        super(ResidualBlock, self).__init__()\n",
        "        self.conv1 = conv3x3(in_channels, out_channels, stride)\n",
        "        self.bn1 = nn.BatchNorm2d(out_channels)\n",
        "        self.relu = nn.ReLU(inplace=True)\n",
        "        self.conv2 = conv3x3(out_channels, out_channels)\n",
        "        self.bn2 = nn.BatchNorm2d(out_channels)\n",
        "        self.downsample = downsample\n",
        "    def forward(self, x):\n",
        "        \"\"\"\n",
        "        Defines the computation performed at every call.\n",
        "        x: N * C * H * W\n",
        "        \"\"\"\n",
        "        residual = x\n",
        "        # if the size of input x changes, using downsample to change the size of residual\n",
        "        if self.downsample:\n",
        "            residual = self.downsample(x)\n",
        "\n",
        "        out = self.conv1(x)\n",
        "        out = self.bn1(out)\n",
        "        out = self.relu(out)\n",
        "        out = self.conv2(out)\n",
        "        out = self.bn2(out)\n",
        "        out += residual\n",
        "        out = self.relu(out)\n",
        "        return out"
      ],
      "execution_count": 0,
      "outputs": []
    },
    {
      "cell_type": "code",
      "metadata": {
        "id": "VFzqre0HqJhd",
        "colab_type": "code",
        "colab": {}
      },
      "source": [
        "class ResNet(nn.Module):\n",
        "    def __init__(self, block=ResidualBlock, layers=[2, 2, 2], num_classes=10):\n",
        "        \"\"\"\n",
        "        block: ResidualBlock\n",
        "        layers: a list with 3 positive num.\n",
        "        \"\"\"\n",
        "        super(ResNet, self).__init__()\n",
        "        self.in_channels = 16\n",
        "        self.conv = conv3x3(1, 16)\n",
        "        self.bn = nn.BatchNorm2d(16)\n",
        "        self.relu = nn.ReLU(inplace=True)\n",
        "        # layer1: image size 32\n",
        "        self.layer1 = self.make_layer(block, 16, num_blocks=layers[0])\n",
        "        # layer2: image size 32 -> 16\n",
        "        self.layer2 = self.make_layer(block, 32, num_blocks=layers[1], stride=2)\n",
        "        # layer1: image size 16 -> 8\n",
        "        self.layer3 = self.make_layer(block, 64, num_blocks=layers[2], stride=2)\n",
        "        # global avg pool: image size 8 -> 1\n",
        "        self.avg_pool = nn.AvgPool2d(8)\n",
        "    \n",
        "        self.fc = nn.Linear(64, num_classes)\n",
        "\n",
        "                \n",
        "    def make_layer(self, block, out_channels, num_blocks, stride=1):\n",
        "        \"\"\"\n",
        "        make a layer with num_blocks blocks.\n",
        "        \"\"\"\n",
        "        \n",
        "        downsample = None\n",
        "        if (stride != 1) or (self.in_channels != out_channels):\n",
        "            # use Conv2d with stride to downsample\n",
        "            downsample = nn.Sequential(\n",
        "                conv3x3(self.in_channels, out_channels, stride=stride),\n",
        "                nn.BatchNorm2d(out_channels))\n",
        "        \n",
        "        # first block with downsample\n",
        "        layers = []\n",
        "        layers.append(block(self.in_channels, out_channels, stride, downsample))\n",
        "        \n",
        "        self.in_channels = out_channels\n",
        "        # add num_blocks - 1 blocks\n",
        "        for i in range(1, num_blocks):\n",
        "            layers.append(block(out_channels, out_channels))\n",
        "            \n",
        "        # return a layer containing layers\n",
        "        return nn.Sequential(*layers)\n",
        "\n",
        "    def forward(self, x):\n",
        "        out = self.conv(x)\n",
        "        out = self.bn(out)\n",
        "        out = self.relu(out)\n",
        "        out = self.layer1(out)\n",
        "        out = self.layer2(out)\n",
        "        out = self.layer3(out)\n",
        "        out = self.avg_pool(out)\n",
        "        # view: here change output size from 4 dimensions to 2 dimensions\n",
        "        out = out.view(out.size(0), -1)\n",
        "        out = self.fc(out)\n",
        "        return out"
      ],
      "execution_count": 0,
      "outputs": []
    },
    {
      "cell_type": "code",
      "metadata": {
        "id": "-B-Hari808Xp",
        "colab_type": "code",
        "colab": {}
      },
      "source": [
        "def data_loader_2d(train_feature, train_lable, test_feature, test_label):\n",
        "    # define a trainset\n",
        "    trainset = Muon2dDataset(train_feature, train_lable)\n",
        "    print(trainset)\n",
        "    # define a trainloader\n",
        "    trainloader = DataLoader(dataset=trainset, batch_size=batch_size, shuffle=True)\n",
        "    # define a testset\n",
        "    testset = Muon2dDataset(test_feature, test_label)\n",
        "    # define a testloader\n",
        "    testloader = DataLoader(dataset=testset, batch_size=batch_size, shuffle=False)\n",
        "\n",
        "    return trainloader, testloader"
      ],
      "execution_count": 0,
      "outputs": []
    },
    {
      "cell_type": "code",
      "metadata": {
        "id": "1O6yU6w2sUY6",
        "colab_type": "code",
        "outputId": "cb6445ce-0556-4f9b-8cdb-1b0532bcc1ae",
        "colab": {
          "base_uri": "https://localhost:8080/",
          "height": 1000
        }
      },
      "source": [
        "resnet = ResNet(ResidualBlock, [2, 2, 2], 4)\n",
        "print(resnet)\n",
        "\n",
        "# Hyper-parameters\n",
        "batch_size = 256\n",
        "num_epochs = 10\n",
        "lossFunction = nn.CrossEntropyLoss()\n",
        "lr = 0.001\n",
        "device = 'cpu'\n",
        "optimizer = torch.optim.Adam(resnet.parameters(), lr=lr)"
      ],
      "execution_count": 0,
      "outputs": [
        {
          "output_type": "stream",
          "text": [
            "ResNet(\n",
            "  (conv): Conv2d(1, 16, kernel_size=(3, 3), stride=(1, 1), padding=(1, 1), bias=False)\n",
            "  (bn): BatchNorm2d(16, eps=1e-05, momentum=0.1, affine=True, track_running_stats=True)\n",
            "  (relu): ReLU(inplace=True)\n",
            "  (layer1): Sequential(\n",
            "    (0): ResidualBlock(\n",
            "      (conv1): Conv2d(16, 16, kernel_size=(3, 3), stride=(1, 1), padding=(1, 1), bias=False)\n",
            "      (bn1): BatchNorm2d(16, eps=1e-05, momentum=0.1, affine=True, track_running_stats=True)\n",
            "      (relu): ReLU(inplace=True)\n",
            "      (conv2): Conv2d(16, 16, kernel_size=(3, 3), stride=(1, 1), padding=(1, 1), bias=False)\n",
            "      (bn2): BatchNorm2d(16, eps=1e-05, momentum=0.1, affine=True, track_running_stats=True)\n",
            "    )\n",
            "    (1): ResidualBlock(\n",
            "      (conv1): Conv2d(16, 16, kernel_size=(3, 3), stride=(1, 1), padding=(1, 1), bias=False)\n",
            "      (bn1): BatchNorm2d(16, eps=1e-05, momentum=0.1, affine=True, track_running_stats=True)\n",
            "      (relu): ReLU(inplace=True)\n",
            "      (conv2): Conv2d(16, 16, kernel_size=(3, 3), stride=(1, 1), padding=(1, 1), bias=False)\n",
            "      (bn2): BatchNorm2d(16, eps=1e-05, momentum=0.1, affine=True, track_running_stats=True)\n",
            "    )\n",
            "  )\n",
            "  (layer2): Sequential(\n",
            "    (0): ResidualBlock(\n",
            "      (conv1): Conv2d(16, 32, kernel_size=(3, 3), stride=(2, 2), padding=(1, 1), bias=False)\n",
            "      (bn1): BatchNorm2d(32, eps=1e-05, momentum=0.1, affine=True, track_running_stats=True)\n",
            "      (relu): ReLU(inplace=True)\n",
            "      (conv2): Conv2d(32, 32, kernel_size=(3, 3), stride=(1, 1), padding=(1, 1), bias=False)\n",
            "      (bn2): BatchNorm2d(32, eps=1e-05, momentum=0.1, affine=True, track_running_stats=True)\n",
            "      (downsample): Sequential(\n",
            "        (0): Conv2d(16, 32, kernel_size=(3, 3), stride=(2, 2), padding=(1, 1), bias=False)\n",
            "        (1): BatchNorm2d(32, eps=1e-05, momentum=0.1, affine=True, track_running_stats=True)\n",
            "      )\n",
            "    )\n",
            "    (1): ResidualBlock(\n",
            "      (conv1): Conv2d(32, 32, kernel_size=(3, 3), stride=(1, 1), padding=(1, 1), bias=False)\n",
            "      (bn1): BatchNorm2d(32, eps=1e-05, momentum=0.1, affine=True, track_running_stats=True)\n",
            "      (relu): ReLU(inplace=True)\n",
            "      (conv2): Conv2d(32, 32, kernel_size=(3, 3), stride=(1, 1), padding=(1, 1), bias=False)\n",
            "      (bn2): BatchNorm2d(32, eps=1e-05, momentum=0.1, affine=True, track_running_stats=True)\n",
            "    )\n",
            "  )\n",
            "  (layer3): Sequential(\n",
            "    (0): ResidualBlock(\n",
            "      (conv1): Conv2d(32, 64, kernel_size=(3, 3), stride=(2, 2), padding=(1, 1), bias=False)\n",
            "      (bn1): BatchNorm2d(64, eps=1e-05, momentum=0.1, affine=True, track_running_stats=True)\n",
            "      (relu): ReLU(inplace=True)\n",
            "      (conv2): Conv2d(64, 64, kernel_size=(3, 3), stride=(1, 1), padding=(1, 1), bias=False)\n",
            "      (bn2): BatchNorm2d(64, eps=1e-05, momentum=0.1, affine=True, track_running_stats=True)\n",
            "      (downsample): Sequential(\n",
            "        (0): Conv2d(32, 64, kernel_size=(3, 3), stride=(2, 2), padding=(1, 1), bias=False)\n",
            "        (1): BatchNorm2d(64, eps=1e-05, momentum=0.1, affine=True, track_running_stats=True)\n",
            "      )\n",
            "    )\n",
            "    (1): ResidualBlock(\n",
            "      (conv1): Conv2d(64, 64, kernel_size=(3, 3), stride=(1, 1), padding=(1, 1), bias=False)\n",
            "      (bn1): BatchNorm2d(64, eps=1e-05, momentum=0.1, affine=True, track_running_stats=True)\n",
            "      (relu): ReLU(inplace=True)\n",
            "      (conv2): Conv2d(64, 64, kernel_size=(3, 3), stride=(1, 1), padding=(1, 1), bias=False)\n",
            "      (bn2): BatchNorm2d(64, eps=1e-05, momentum=0.1, affine=True, track_running_stats=True)\n",
            "    )\n",
            "  )\n",
            "  (avg_pool): AvgPool2d(kernel_size=8, stride=8, padding=0)\n",
            "  (fc): Linear(in_features=64, out_features=4, bias=True)\n",
            ")\n"
          ],
          "name": "stdout"
        }
      ]
    },
    {
      "cell_type": "code",
      "metadata": {
        "id": "KkLVz5Ba0n-U",
        "colab_type": "code",
        "outputId": "6934ebc2-a540-4e71-b055-2f786a56f8b1",
        "colab": {
          "base_uri": "https://localhost:8080/",
          "height": 52
        }
      },
      "source": [
        "train_feature = new_variables[0:1000, :-1]\n",
        "train_lable = new_variables[:1000, -1]\n",
        "test_feature = new_variables[1000:1200, :-1]\n",
        "test_label = new_variables[1000:1200, -1]\n",
        "\n",
        "print(train_feature.shape, train_lable.shape, test_feature.shape, test_label.shape)\n",
        "trainloader, testloader = data_loader_2d(train_feature, train_lable, test_feature, test_label)"
      ],
      "execution_count": 0,
      "outputs": [
        {
          "output_type": "stream",
          "text": [
            "(1000, 87) (1000,) (200, 87) (200,)\n",
            "<__main__.Muon2dDataset object at 0x7f34b89c6160>\n"
          ],
          "name": "stdout"
        }
      ]
    },
    {
      "cell_type": "code",
      "metadata": {
        "id": "c0FCNK8ZsjIT",
        "colab_type": "code",
        "outputId": "955601c3-a7b9-4a6d-f1aa-c06ac8091556",
        "colab": {
          "base_uri": "https://localhost:8080/",
          "height": 1000
        }
      },
      "source": [
        "train_loss_list, test_loss_list = run(resnet, num_epochs, optimizer, trainloader, testloader, device, lossFunction, lr)\n",
        "show_curve(train_loss_list, 'train_loss')\n",
        "show_curve(test_loss_list, 'test_loss')"
      ],
      "execution_count": 0,
      "outputs": [
        {
          "output_type": "stream",
          "text": [
            "\n",
            "Epoch: 0\n",
            "Train loss: 1.589 | Train Acc: 24.600% (246/1000)\n",
            "Test Loss: 1.392  | Test Acc: 22.500% (45/200)\n",
            "\n",
            "Epoch: 1\n",
            "Train loss: 1.396 | Train Acc: 32.800% (328/1000)\n",
            "Test Loss: 1.384  | Test Acc: 27.000% (54/200)\n",
            "\n",
            "Epoch: 2\n",
            "Train loss: 1.348 | Train Acc: 32.700% (327/1000)\n",
            "Test Loss: 1.383  | Test Acc: 24.500% (49/200)\n",
            "\n",
            "Epoch: 3\n",
            "Train loss: 1.301 | Train Acc: 38.100% (381/1000)\n",
            "Test Loss: 1.392  | Test Acc: 24.500% (49/200)\n",
            "\n",
            "Epoch: 4\n",
            "Train loss: 1.236 | Train Acc: 43.300% (433/1000)\n",
            "Test Loss: 1.396  | Test Acc: 24.000% (48/200)\n",
            "\n",
            "Epoch: 5\n",
            "Train loss: 1.129 | Train Acc: 51.400% (514/1000)\n",
            "Test Loss: 1.498  | Test Acc: 23.000% (46/200)\n",
            "\n",
            "Epoch: 6\n",
            "Train loss: 0.973 | Train Acc: 63.300% (633/1000)\n",
            "Test Loss: 1.867  | Test Acc: 25.000% (50/200)\n",
            "\n",
            "Epoch: 7\n",
            "Train loss: 0.883 | Train Acc: 65.300% (653/1000)\n",
            "Test Loss: 2.248  | Test Acc: 25.500% (51/200)\n",
            "\n",
            "Epoch: 8\n",
            "Train loss: 0.703 | Train Acc: 75.800% (758/1000)\n",
            "Test Loss: 2.142  | Test Acc: 28.000% (56/200)\n",
            "\n",
            "Epoch: 9\n",
            "Train loss: 0.607 | Train Acc: 81.300% (813/1000)\n",
            "Test Loss: 2.950  | Test Acc: 31.500% (63/200)\n"
          ],
          "name": "stdout"
        },
        {
          "output_type": "display_data",
          "data": {
            "image/png": "[encoded data removed]",
            "text/plain": [
              "<Figure size 432x288 with 1 Axes>"
            ]
          },
          "metadata": {
            "tags": []
          }
        },
        {
          "output_type": "display_data",
          "data": {
            "image/png": "[encoded data removed]",
            "text/plain": [
              "<Figure size 432x288 with 1 Axes>"
            ]
          },
          "metadata": {
            "tags": []
          }
        }
      ]
    },
    {
      "cell_type": "code",
      "metadata": {
        "id": "w7QqjWha9YEe",
        "colab_type": "code",
        "outputId": "e8c8ffb7-b400-4a4f-a644-3cae039b404a",
        "colab": {
          "base_uri": "https://localhost:8080/",
          "height": 52
        }
      },
      "source": [
        "train_feature = new_variables[0:3000000, :-1]\n",
        "train_lable = new_variables[:3000000, -1]\n",
        "test_feature = new_variables[3000000:, :-1]\n",
        "test_label = new_variables[3000000:, -1]\n",
        "\n",
        "print(train_feature.shape, train_lable.shape, test_feature.shape, test_label.shape)\n",
        "trainloader, testloader = data_loader_2d(train_feature, train_lable, test_feature, test_label)"
      ],
      "execution_count": 0,
      "outputs": [
        {
          "output_type": "stream",
          "text": [
            "(3000000, 87) (3000000,) (957571, 87) (957571,)\n",
            "<__main__.Muon2dDataset object at 0x7f34b00d1be0>\n"
          ],
          "name": "stdout"
        }
      ]
    },
    {
      "cell_type": "code",
      "metadata": {
        "id": "bIfY9pWM9mLj",
        "colab_type": "code",
        "outputId": "87d3e4b2-3533-4860-ab22-27fad9b3d478",
        "colab": {
          "base_uri": "https://localhost:8080/",
          "height": 1000
        }
      },
      "source": [
        "resnet = ResNet(ResidualBlock, [2, 2, 2], 4)\n",
        "print(resnet)\n",
        "\n",
        "# Hyper-parameters\n",
        "batch_size = 256\n",
        "num_epochs = 10\n",
        "lossFunction = nn.CrossEntropyLoss()\n",
        "lr = 0.001\n",
        "device = 'cpu'\n",
        "optimizer = torch.optim.Adam(resnet.parameters(), lr=lr)"
      ],
      "execution_count": 0,
      "outputs": [
        {
          "output_type": "stream",
          "text": [
            "ResNet(\n",
            "  (conv): Conv2d(1, 16, kernel_size=(3, 3), stride=(1, 1), padding=(1, 1), bias=False)\n",
            "  (bn): BatchNorm2d(16, eps=1e-05, momentum=0.1, affine=True, track_running_stats=True)\n",
            "  (relu): ReLU(inplace=True)\n",
            "  (layer1): Sequential(\n",
            "    (0): ResidualBlock(\n",
            "      (conv1): Conv2d(16, 16, kernel_size=(3, 3), stride=(1, 1), padding=(1, 1), bias=False)\n",
            "      (bn1): BatchNorm2d(16, eps=1e-05, momentum=0.1, affine=True, track_running_stats=True)\n",
            "      (relu): ReLU(inplace=True)\n",
            "      (conv2): Conv2d(16, 16, kernel_size=(3, 3), stride=(1, 1), padding=(1, 1), bias=False)\n",
            "      (bn2): BatchNorm2d(16, eps=1e-05, momentum=0.1, affine=True, track_running_stats=True)\n",
            "    )\n",
            "    (1): ResidualBlock(\n",
            "      (conv1): Conv2d(16, 16, kernel_size=(3, 3), stride=(1, 1), padding=(1, 1), bias=False)\n",
            "      (bn1): BatchNorm2d(16, eps=1e-05, momentum=0.1, affine=True, track_running_stats=True)\n",
            "      (relu): ReLU(inplace=True)\n",
            "      (conv2): Conv2d(16, 16, kernel_size=(3, 3), stride=(1, 1), padding=(1, 1), bias=False)\n",
            "      (bn2): BatchNorm2d(16, eps=1e-05, momentum=0.1, affine=True, track_running_stats=True)\n",
            "    )\n",
            "  )\n",
            "  (layer2): Sequential(\n",
            "    (0): ResidualBlock(\n",
            "      (conv1): Conv2d(16, 32, kernel_size=(3, 3), stride=(2, 2), padding=(1, 1), bias=False)\n",
            "      (bn1): BatchNorm2d(32, eps=1e-05, momentum=0.1, affine=True, track_running_stats=True)\n",
            "      (relu): ReLU(inplace=True)\n",
            "      (conv2): Conv2d(32, 32, kernel_size=(3, 3), stride=(1, 1), padding=(1, 1), bias=False)\n",
            "      (bn2): BatchNorm2d(32, eps=1e-05, momentum=0.1, affine=True, track_running_stats=True)\n",
            "      (downsample): Sequential(\n",
            "        (0): Conv2d(16, 32, kernel_size=(3, 3), stride=(2, 2), padding=(1, 1), bias=False)\n",
            "        (1): BatchNorm2d(32, eps=1e-05, momentum=0.1, affine=True, track_running_stats=True)\n",
            "      )\n",
            "    )\n",
            "    (1): ResidualBlock(\n",
            "      (conv1): Conv2d(32, 32, kernel_size=(3, 3), stride=(1, 1), padding=(1, 1), bias=False)\n",
            "      (bn1): BatchNorm2d(32, eps=1e-05, momentum=0.1, affine=True, track_running_stats=True)\n",
            "      (relu): ReLU(inplace=True)\n",
            "      (conv2): Conv2d(32, 32, kernel_size=(3, 3), stride=(1, 1), padding=(1, 1), bias=False)\n",
            "      (bn2): BatchNorm2d(32, eps=1e-05, momentum=0.1, affine=True, track_running_stats=True)\n",
            "    )\n",
            "  )\n",
            "  (layer3): Sequential(\n",
            "    (0): ResidualBlock(\n",
            "      (conv1): Conv2d(32, 64, kernel_size=(3, 3), stride=(2, 2), padding=(1, 1), bias=False)\n",
            "      (bn1): BatchNorm2d(64, eps=1e-05, momentum=0.1, affine=True, track_running_stats=True)\n",
            "      (relu): ReLU(inplace=True)\n",
            "      (conv2): Conv2d(64, 64, kernel_size=(3, 3), stride=(1, 1), padding=(1, 1), bias=False)\n",
            "      (bn2): BatchNorm2d(64, eps=1e-05, momentum=0.1, affine=True, track_running_stats=True)\n",
            "      (downsample): Sequential(\n",
            "        (0): Conv2d(32, 64, kernel_size=(3, 3), stride=(2, 2), padding=(1, 1), bias=False)\n",
            "        (1): BatchNorm2d(64, eps=1e-05, momentum=0.1, affine=True, track_running_stats=True)\n",
            "      )\n",
            "    )\n",
            "    (1): ResidualBlock(\n",
            "      (conv1): Conv2d(64, 64, kernel_size=(3, 3), stride=(1, 1), padding=(1, 1), bias=False)\n",
            "      (bn1): BatchNorm2d(64, eps=1e-05, momentum=0.1, affine=True, track_running_stats=True)\n",
            "      (relu): ReLU(inplace=True)\n",
            "      (conv2): Conv2d(64, 64, kernel_size=(3, 3), stride=(1, 1), padding=(1, 1), bias=False)\n",
            "      (bn2): BatchNorm2d(64, eps=1e-05, momentum=0.1, affine=True, track_running_stats=True)\n",
            "    )\n",
            "  )\n",
            "  (avg_pool): AvgPool2d(kernel_size=8, stride=8, padding=0)\n",
            "  (fc): Linear(in_features=64, out_features=4, bias=True)\n",
            ")\n"
          ],
          "name": "stdout"
        }
      ]
    },
    {
      "cell_type": "code",
      "metadata": {
        "id": "EDywdu_Z9qK3",
        "colab_type": "code",
        "outputId": "b4804239-da5c-4476-eb89-57d49d3fc2ed",
        "colab": {
          "base_uri": "https://localhost:8080/",
          "height": 1000
        }
      },
      "source": [
        "train_loss_list, test_loss_list = run(resnet, num_epochs, optimizer, trainloader, testloader, device, lossFunction, lr)\n",
        "show_curve(train_loss_list, 'train_loss')\n",
        "show_curve(test_loss_list, 'test_loss')"
      ],
      "execution_count": 0,
      "outputs": [
        {
          "output_type": "stream",
          "text": [
            "\n",
            "Epoch: 0\n",
            "Train loss: 0.849 | Train Acc: 61.185% (1835539/3000000)\n",
            "Test Loss: 0.712  | Test Acc: 69.205% (662687/957571)\n",
            "\n",
            "Epoch: 1\n",
            "Train loss: 0.635 | Train Acc: 73.091% (2192728/3000000)\n",
            "Test Loss: 0.576  | Test Acc: 76.090% (728612/957571)\n",
            "\n",
            "Epoch: 2\n",
            "Train loss: 0.544 | Train Acc: 77.555% (2326648/3000000)\n",
            "Test Loss: 0.514  | Test Acc: 79.132% (757749/957571)\n",
            "\n",
            "Epoch: 3\n",
            "Test Loss: 0.464  | Test Acc: 81.427% (779726/957571)\n",
            "\n",
            "Epoch: 4\n",
            "Train loss: 0.453 | Train Acc: 81.863% (2455884/3000000)\n",
            "Test Loss: 0.436  | Test Acc: 82.735% (792249/957571)\n",
            "\n",
            "Epoch: 5\n",
            "Train loss: 0.424 | Train Acc: 83.212% (2496362/3000000)\n",
            "Test Loss: 0.418  | Test Acc: 83.636% (800878/957571)\n",
            "\n",
            "Epoch: 6\n",
            "Train loss: 0.401 | Train Acc: 84.252% (2527567/3000000)\n",
            "Test Loss: 0.396  | Test Acc: 84.689% (810962/957571)\n",
            "\n",
            "Epoch: 7\n",
            "Train loss: 0.382 | Train Acc: 85.135% (2554045/3000000)\n",
            "Test Loss: 0.364  | Test Acc: 86.159% (825037/957571)\n",
            "\n",
            "Epoch: 8\n",
            "Train loss: 0.366 | Train Acc: 85.840% (2575190/3000000)\n",
            "Test Loss: 0.361  | Test Acc: 86.249% (825898/957571)\n",
            "\n",
            "Epoch: 9\n",
            "Train loss: 0.353 | Train Acc: 86.448% (2593449/3000000)\n",
            "Test Loss: 0.349  | Test Acc: 86.744% (830639/957571)\n"
          ],
          "name": "stdout"
        },
        {
          "output_type": "display_data",
          "data": {
            "image/png": "[encoded data removed]",
            "text/plain": [
              "<Figure size 432x288 with 1 Axes>"
            ]
          },
          "metadata": {
            "tags": []
          }
        },
        {
          "output_type": "display_data",
          "data": {
            "image/png": "[encoded data removed]",
            "text/plain": [
              "<Figure size 432x288 with 1 Axes>"
            ]
          },
          "metadata": {
            "tags": []
          }
        }
      ]
    },
    {
      "cell_type": "markdown",
      "metadata": {
        "id": "NPjSCLyuDiFB",
        "colab_type": "text"
      },
      "source": [
        "### Regression\n"
      ]
    },
    {
      "cell_type": "code",
      "metadata": {
        "id": "QeSTg7nFeBq7",
        "colab_type": "code",
        "colab": {}
      },
      "source": [
        "class MuonRegressionDataset(Dataset):\n",
        "    def __init__(self, feature, label, transform=None):\n",
        "        self.feature = feature\n",
        "        self.label = label\n",
        "        self.transform = transform\n",
        "\n",
        "    def __len__(self):\n",
        "        return len(self.feature)\n",
        "\n",
        "    def __getitem__(self, idx):\n",
        "        feature = torch.tensor(self.feature[idx], dtype=torch.float32)\n",
        "        label = torch.tensor(self.label[idx], dtype=torch.float32)\n",
        "        if self.transform is not None:\n",
        "            self.feature = self.transform(self.feature)\n",
        "        sample = {'feature': feature, 'label': label}\n",
        "        return sample"
      ],
      "execution_count": 0,
      "outputs": []
    },
    {
      "cell_type": "code",
      "metadata": {
        "id": "gb189_yVeOc1",
        "colab_type": "code",
        "colab": {}
      },
      "source": [
        "def data_loader_regression(train_feature, train_lable, test_feature, test_label):\n",
        "    # define a trainset\n",
        "    trainset = MuonRegressionDataset(train_feature, train_lable)\n",
        "    print(trainset)\n",
        "    # define a trainloader\n",
        "    trainloader = DataLoader(dataset=trainset, batch_size=batch_size, shuffle=True)\n",
        "    # define a testset\n",
        "    testset = MuonRegressionDataset(test_feature, test_label)\n",
        "    # define a testloader\n",
        "    testloader = DataLoader(dataset=testset, batch_size=batch_size, shuffle=False)\n",
        "\n",
        "    return trainloader, testloader"
      ],
      "execution_count": 0,
      "outputs": []
    },
    {
      "cell_type": "code",
      "metadata": {
        "id": "JooMMbtdEFTQ",
        "colab_type": "code",
        "colab": {}
      },
      "source": [
        "train_feature = variables[0:1000, :-1]\n",
        "train_lable = parameters[:1000]\n",
        "test_feature = variables[1000:1200, :-1]\n",
        "test_label = parameters[1000:1200]"
      ],
      "execution_count": 0,
      "outputs": []
    },
    {
      "cell_type": "code",
      "metadata": {
        "id": "TAElRg6XdocE",
        "colab_type": "code",
        "colab": {}
      },
      "source": [
        "def train(epoch, model, lossFunction, optimizer, device, trainloader):\n",
        "    print('\\nEpoch: %d' % epoch)\n",
        "    model.train()     # enter train mode\n",
        "    train_loss = 0    # accumulate every batch loss in a epoch\n",
        "    total = 0         # total number of prediction in train set\n",
        "    for batch_idx, data in enumerate(trainloader):\n",
        "        inputs, targets = data['feature'], data['label']\n",
        "        inputs, targets = inputs.to(device), targets.to(device) # load data to gpu device\n",
        "        inputs, targets = Variable(inputs), Variable(targets)\n",
        "        optimizer.zero_grad()            # clear gradients of all optimized torch.Tensors'\n",
        "        outputs = model(inputs)          # forward propagation return the value of softmax function\n",
        "        targets = targets.squeeze_()\n",
        "        loss = lossFunction(outputs, targets) #compute loss\n",
        "        loss.backward()                  # compute gradient of loss over parameters \n",
        "        optimizer.step()                 # update parameters with gradient descent \n",
        "\n",
        "        train_loss += loss.item()        # accumulate every batch loss in a epoch\n",
        "        total += targets.size(0)\n",
        "        \n",
        "    print( 'Train loss: %.3f' % (train_loss/(batch_idx+1)))\n",
        "    train_loss = train_loss/(batch_idx+1)\n",
        "    \n",
        "    return train_loss\n",
        "    \n",
        "    \n",
        "def test(model, lossFunction, optimizer, device, testloader):\n",
        "    model.eval() #enter test mode\n",
        "    test_loss = 0 # accumulate every batch loss in a epoch\n",
        "    total = 0\n",
        "    with torch.no_grad():\n",
        "        for batch_idx, data in enumerate(testloader):\n",
        "            inputs, targets = data['feature'], data['label']\n",
        "            inputs, targets = inputs.to(device), targets.to(device)\n",
        "            outputs = model(inputs)\n",
        "            targets = targets.squeeze_()\n",
        "            loss = lossFunction(outputs, targets) #compute loss\n",
        "\n",
        "            test_loss += loss.item() # accumulate every batch loss in a epoch\n",
        "\n",
        "        # print loss and acc\n",
        "        print('Test Loss: %.3f' % (test_loss/(batch_idx+1)))\n",
        "        test_loss = test_loss/(batch_idx+1)\n",
        "        \n",
        "    return test_loss"
      ],
      "execution_count": 0,
      "outputs": []
    },
    {
      "cell_type": "code",
      "metadata": {
        "id": "IqqN3_iNlZ4k",
        "colab_type": "code",
        "colab": {}
      },
      "source": [
        "def run(model, num_epochs, optimizer, trainloader, testloader, device='cpu', lossFunction=nn.CrossEntropyLoss(), lr=0.01):\n",
        "    device = 'cuda' if torch.cuda.is_available() else 'cpu'\n",
        "    model.to(device)\n",
        "    if device == 'cuda':\n",
        "        model = torch.nn.DataParallel(model)\n",
        "        torch.backends.cudnn.benchmark=True\n",
        "\n",
        "    train_loss_list = []\n",
        "    test_loss_list = []\n",
        "\n",
        "    for epoch in range(num_epochs):\n",
        "        train_loss_list.append(train(epoch, model, lossFunction, optimizer, device, trainloader))\n",
        "        test_loss_list.append(test(model, lossFunction, optimizer, device, testloader))\n",
        "\n",
        "    return train_loss_list, test_loss_list"
      ],
      "execution_count": 0,
      "outputs": []
    },
    {
      "cell_type": "code",
      "metadata": {
        "id": "Urr3AUe6DkJA",
        "colab_type": "code",
        "outputId": "0b03f6d3-0f1f-4eb9-cba4-c3f74e8618f8",
        "colab": {
          "base_uri": "https://localhost:8080/",
          "height": 34
        }
      },
      "source": [
        "model = nn.Linear(87, 1)\n",
        "\n",
        "trainloader, testloader = data_loader_regression(train_feature, train_lable, test_feature, test_label)\n",
        "\n",
        "# Hyper-parameters\n",
        "num_epochs = 10\n",
        "batch_size = 256\n",
        "lr = 0.001\n",
        "device = 'cpu'\n",
        "lossFunction = nn.MSELoss()\n",
        "optimizer = torch.optim.Adam(resnet.parameters(), lr=lr)"
      ],
      "execution_count": 0,
      "outputs": [
        {
          "output_type": "stream",
          "text": [
            "<__main__.MuonRegressionDataset object at 0x7f346ab9d6d8>\n"
          ],
          "name": "stdout"
        }
      ]
    },
    {
      "cell_type": "code",
      "metadata": {
        "id": "o4UAOrepDxpv",
        "colab_type": "code",
        "outputId": "cc220c7b-2ea7-44ed-f067-68d28386b3f9",
        "colab": {
          "base_uri": "https://localhost:8080/",
          "height": 1000
        }
      },
      "source": [
        "train_loss_list, test_loss_list = run(model, num_epochs, optimizer, trainloader, testloader, device, lossFunction, lr)\n",
        "show_curve(train_loss_list, 'train_loss')\n",
        "show_curve(test_loss_list, 'test_loss')"
      ],
      "execution_count": 0,
      "outputs": [
        {
          "output_type": "stream",
          "text": [
            "\n",
            "Epoch: 0\n",
            "Train loss: 3.731\n",
            "Test Loss: 4.097\n",
            "\n",
            "Epoch: 1\n",
            "Train loss: 3.729\n",
            "Test Loss: 4.097\n",
            "\n",
            "Epoch: 2\n",
            "Train loss: 3.736\n",
            "Test Loss: 4.097\n",
            "\n",
            "Epoch: 3\n",
            "Train loss: 3.737\n",
            "Test Loss: 4.097\n",
            "\n",
            "Epoch: 4\n"
          ],
          "name": "stdout"
        },
        {
          "output_type": "stream",
          "text": [
            "/usr/local/lib/python3.6/dist-packages/torch/nn/modules/loss.py:431: UserWarning: Using a target size (torch.Size([256])) that is different to the input size (torch.Size([256, 1])). This will likely lead to incorrect results due to broadcasting. Please ensure they have the same size.\n",
            "  return F.mse_loss(input, target, reduction=self.reduction)\n",
            "/usr/local/lib/python3.6/dist-packages/torch/nn/modules/loss.py:431: UserWarning: Using a target size (torch.Size([232])) that is different to the input size (torch.Size([232, 1])). This will likely lead to incorrect results due to broadcasting. Please ensure they have the same size.\n",
            "  return F.mse_loss(input, target, reduction=self.reduction)\n",
            "/usr/local/lib/python3.6/dist-packages/torch/nn/modules/loss.py:431: UserWarning: Using a target size (torch.Size([200])) that is different to the input size (torch.Size([200, 1])). This will likely lead to incorrect results due to broadcasting. Please ensure they have the same size.\n",
            "  return F.mse_loss(input, target, reduction=self.reduction)\n"
          ],
          "name": "stderr"
        },
        {
          "output_type": "stream",
          "text": [
            "Train loss: 3.737\n",
            "Test Loss: 4.097\n",
            "\n",
            "Epoch: 5\n",
            "Train loss: 3.738\n",
            "Test Loss: 4.097\n",
            "\n",
            "Epoch: 6\n",
            "Train loss: 3.747\n",
            "Test Loss: 4.097\n",
            "\n",
            "Epoch: 7\n",
            "Train loss: 3.732\n",
            "Test Loss: 4.097\n",
            "\n",
            "Epoch: 8\n",
            "Train loss: 3.736\n",
            "Test Loss: 4.097\n",
            "\n",
            "Epoch: 9\n",
            "Train loss: 3.749\n",
            "Test Loss: 4.097\n"
          ],
          "name": "stdout"
        },
        {
          "output_type": "display_data",
          "data": {
            "image/png": "[encoded data removed]",
            "text/plain": [
              "<Figure size 432x288 with 1 Axes>"
            ]
          },
          "metadata": {
            "tags": []
          }
        },
        {
          "output_type": "display_data",
          "data": {
            "image/png": "[encoded data removed]",
            "text/plain": [
              "<Figure size 432x288 with 1 Axes>"
            ]
          },
          "metadata": {
            "tags": []
          }
        }
      ]
    },
    {
      "cell_type": "markdown",
      "metadata": {
        "id": "Olfqrtcmnf6g",
        "colab_type": "text"
      },
      "source": [
        "## Task2: Image-based CNN\n"
      ]
    },
    {
      "cell_type": "code",
      "metadata": {
        "id": "_KbsPvvinmW8",
        "colab_type": "code",
        "colab": {}
      },
      "source": [
        "# construct Variable to a 10*10 2d array\n",
        "class Muon2dDataset(Dataset):\n",
        "    def __init__(self, feature, label, transform=None):\n",
        "        self.feature = feature\n",
        "        self.label = label\n",
        "        self.transform = transform\n",
        "\n",
        "    def __len__(self):\n",
        "        return len(self.feature)\n",
        "\n",
        "    def __getitem__(self, idx):\n",
        "        raw_feature = np.resize(self.feature[idx], 10*10)\n",
        "        raw_feature = np.pad(np.reshape(raw_feature, (10,10)), (11, 11), 'reflect')\n",
        "        feature = torch.tensor(np.reshape(raw_feature, (1,32,32)), dtype=torch.float32)\n",
        "        label = torch.tensor(self.label[idx], dtype=torch.long)\n",
        "        if self.transform is not None:\n",
        "            self.feature = self.transform(self.feature)\n",
        "        sample = {'feature': feature, 'label': label}\n",
        "        return sample"
      ],
      "execution_count": 0,
      "outputs": []
    },
    {
      "cell_type": "code",
      "metadata": {
        "id": "t5Rn1ojRt_XU",
        "colab_type": "code",
        "colab": {}
      },
      "source": [
        "def data_loader_2d(train_feature, train_lable, test_feature, test_label):\n",
        "    # define a trainset\n",
        "    trainset = Muon2dDataset(train_feature, train_lable)\n",
        "    print(trainset)\n",
        "    # define a trainloader\n",
        "    trainloader = DataLoader(dataset=trainset, batch_size=batch_size, shuffle=True)\n",
        "    # define a testset\n",
        "    testset = Muon2dDataset(test_feature, test_label)\n",
        "    # define a testloader\n",
        "    testloader = DataLoader(dataset=testset, batch_size=batch_size, shuffle=False)\n",
        "\n",
        "    return trainloader, testloader"
      ],
      "execution_count": 0,
      "outputs": []
    },
    {
      "cell_type": "code",
      "metadata": {
        "id": "ZJvNuAfEpbhn",
        "colab_type": "code",
        "outputId": "708884bd-a876-485b-c7a3-8fa66921549e",
        "colab": {
          "base_uri": "https://localhost:8080/",
          "height": 262
        }
      },
      "source": [
        "min_max_scaler = preprocessing.MinMaxScaler(feature_range=(0, 255))\n",
        "print(min_max_scaler.fit(new_variables[:,:-1]))\n",
        "new_variables_minmax = min_max_scaler.transform(new_variables[:,:-1])\n",
        "new_variables_minmax = np.concatenate((new_variables_minmax, np.reshape(new_variables[:,-1],(len(new_variables[:,-1]),1))), axis=1)\n",
        "print(new_variables_minmax)"
      ],
      "execution_count": 31,
      "outputs": [
        {
          "output_type": "stream",
          "text": [
            "MinMaxScaler(copy=True, feature_range=(0, 255))\n",
            "[[ 98.78885058   0.          96.6673302  ...   0.          94.56953907\n",
            "    0.        ]\n",
            " [  0.         144.42432673 139.54480355 ... 255.         138.47682202\n",
            "    2.        ]\n",
            " [ 59.00741924   0.          68.87161072 ...   0.          62.48345234\n",
            "    1.        ]\n",
            " ...\n",
            " [  0.         187.19951945 185.71658335 ... 255.         185.76158814\n",
            "    3.        ]\n",
            " [  0.         149.68737683 145.77310664 ... 255.         145.23178836\n",
            "    2.        ]\n",
            " [152.52957958   0.         140.41985425 ...  51.00000343 141.85430519\n",
            "    1.        ]]\n"
          ],
          "name": "stdout"
        }
      ]
    },
    {
      "cell_type": "code",
      "metadata": {
        "id": "sz-lewesvHP-",
        "colab_type": "code",
        "outputId": "a84d470b-1b63-42a4-904f-7c6bd6e0862f",
        "colab": {
          "base_uri": "https://localhost:8080/",
          "height": 34
        }
      },
      "source": [
        "train_feature = new_variables_minmax[0:3000000, :-1]\n",
        "train_lable = new_variables_minmax[:3000000, -1]\n",
        "test_feature = new_variables_minmax[3000000:, :-1]\n",
        "test_label = new_variables_minmax[3000000:, -1]\n",
        "\n",
        "print(train_feature.shape, train_lable.shape, test_feature.shape, test_label.shape)"
      ],
      "execution_count": 32,
      "outputs": [
        {
          "output_type": "stream",
          "text": [
            "(3000000, 87) (3000000,) (957571, 87) (957571,)\n"
          ],
          "name": "stdout"
        }
      ]
    },
    {
      "cell_type": "code",
      "metadata": {
        "id": "Ue69ExyCvR46",
        "colab_type": "code",
        "outputId": "c6cea73a-0dd9-47d2-d447-d8ea6e274a15",
        "colab": {
          "base_uri": "https://localhost:8080/",
          "height": 1000
        }
      },
      "source": [
        "batch_size=256\n",
        "trainloader, testloader = data_loader_2d(train_feature, train_lable, test_feature, test_label)\n",
        "for data in trainloader:\n",
        "  print(data['feature'].shape)\n",
        "  for i in range(10):\n",
        "    plt.figure()\n",
        "    plt.imshow(data['feature'][i][0])\n",
        "\n",
        "  break\n"
      ],
      "execution_count": 33,
      "outputs": [
        {
          "output_type": "stream",
          "text": [
            "<__main__.Muon2dDataset object at 0x7f70d4a42a20>\n",
            "torch.Size([256, 1, 32, 32])\n"
          ],
          "name": "stdout"
        },
        {
          "output_type": "display_data",
          "data": {
            "image/png": "[encoded data removed]",
            "text/plain": [
              "<Figure size 432x288 with 1 Axes>"
            ]
          },
          "metadata": {
            "tags": []
          }
        },
        {
          "output_type": "display_data",
          "data": {
            "image/png": "[encoded data removed]",
            "text/plain": [
              "<Figure size 432x288 with 1 Axes>"
            ]
          },
          "metadata": {
            "tags": []
          }
        },
        {
          "output_type": "display_data",
          "data": {
            "image/png": "[encoded data removed]",
            "text/plain": [
              "<Figure size 432x288 with 1 Axes>"
            ]
          },
          "metadata": {
            "tags": []
          }
        },
        {
          "output_type": "display_data",
          "data": {
            "image/png": "[encoded data removed]",
            "text/plain": [
              "<Figure size 432x288 with 1 Axes>"
            ]
          },
          "metadata": {
            "tags": []
          }
        },
        {
          "output_type": "display_data",
          "data": {
            "image/png": "[encoded data removed]",
            "text/plain": [
              "<Figure size 432x288 with 1 Axes>"
            ]
          },
          "metadata": {
            "tags": []
          }
        },
        {
          "output_type": "display_data",
          "data": {
            "image/png": "[encoded data removed]",
            "text/plain": [
              "<Figure size 432x288 with 1 Axes>"
            ]
          },
          "metadata": {
            "tags": []
          }
        },
        {
          "output_type": "display_data",
          "data": {
            "image/png": "[encoded data removed]",
            "text/plain": [
              "<Figure size 432x288 with 1 Axes>"
            ]
          },
          "metadata": {
            "tags": []
          }
        },
        {
          "output_type": "display_data",
          "data": {
            "image/png": "[encoded data removed]",
            "text/plain": [
              "<Figure size 432x288 with 1 Axes>"
            ]
          },
          "metadata": {
            "tags": []
          }
        },
        {
          "output_type": "display_data",
          "data": {
            "image/png": "[encoded data removed]",
            "text/plain": [
              "<Figure size 432x288 with 1 Axes>"
            ]
          },
          "metadata": {
            "tags": []
          }
        },
        {
          "output_type": "display_data",
          "data": {
            "image/png": "[encoded data removed]",
            "text/plain": [
              "<Figure size 432x288 with 1 Axes>"
            ]
          },
          "metadata": {
            "tags": []
          }
        }
      ]
    },
    {
      "cell_type": "code",
      "metadata": {
        "id": "FzEDCC1E1cAm",
        "colab_type": "code",
        "outputId": "39551d65-a8ad-4210-ebbd-39d75f1a33b0",
        "colab": {
          "base_uri": "https://localhost:8080/",
          "height": 1000
        }
      },
      "source": [
        "resnet = ResNet(ResidualBlock, [2, 2, 2], 4)\n",
        "print(resnet)\n",
        "\n",
        "# Hyper-parameters\n",
        "batch_size = 256\n",
        "num_epochs = 10\n",
        "lossFunction = nn.CrossEntropyLoss()\n",
        "lr = 0.001\n",
        "device = 'cpu'\n",
        "optimizer = torch.optim.Adam(resnet.parameters(), lr=lr)"
      ],
      "execution_count": 34,
      "outputs": [
        {
          "output_type": "stream",
          "text": [
            "ResNet(\n",
            "  (conv): Conv2d(1, 16, kernel_size=(3, 3), stride=(1, 1), padding=(1, 1), bias=False)\n",
            "  (bn): BatchNorm2d(16, eps=1e-05, momentum=0.1, affine=True, track_running_stats=True)\n",
            "  (relu): ReLU(inplace=True)\n",
            "  (layer1): Sequential(\n",
            "    (0): ResidualBlock(\n",
            "      (conv1): Conv2d(16, 16, kernel_size=(3, 3), stride=(1, 1), padding=(1, 1), bias=False)\n",
            "      (bn1): BatchNorm2d(16, eps=1e-05, momentum=0.1, affine=True, track_running_stats=True)\n",
            "      (relu): ReLU(inplace=True)\n",
            "      (conv2): Conv2d(16, 16, kernel_size=(3, 3), stride=(1, 1), padding=(1, 1), bias=False)\n",
            "      (bn2): BatchNorm2d(16, eps=1e-05, momentum=0.1, affine=True, track_running_stats=True)\n",
            "    )\n",
            "    (1): ResidualBlock(\n",
            "      (conv1): Conv2d(16, 16, kernel_size=(3, 3), stride=(1, 1), padding=(1, 1), bias=False)\n",
            "      (bn1): BatchNorm2d(16, eps=1e-05, momentum=0.1, affine=True, track_running_stats=True)\n",
            "      (relu): ReLU(inplace=True)\n",
            "      (conv2): Conv2d(16, 16, kernel_size=(3, 3), stride=(1, 1), padding=(1, 1), bias=False)\n",
            "      (bn2): BatchNorm2d(16, eps=1e-05, momentum=0.1, affine=True, track_running_stats=True)\n",
            "    )\n",
            "  )\n",
            "  (layer2): Sequential(\n",
            "    (0): ResidualBlock(\n",
            "      (conv1): Conv2d(16, 32, kernel_size=(3, 3), stride=(2, 2), padding=(1, 1), bias=False)\n",
            "      (bn1): BatchNorm2d(32, eps=1e-05, momentum=0.1, affine=True, track_running_stats=True)\n",
            "      (relu): ReLU(inplace=True)\n",
            "      (conv2): Conv2d(32, 32, kernel_size=(3, 3), stride=(1, 1), padding=(1, 1), bias=False)\n",
            "      (bn2): BatchNorm2d(32, eps=1e-05, momentum=0.1, affine=True, track_running_stats=True)\n",
            "      (downsample): Sequential(\n",
            "        (0): Conv2d(16, 32, kernel_size=(3, 3), stride=(2, 2), padding=(1, 1), bias=False)\n",
            "        (1): BatchNorm2d(32, eps=1e-05, momentum=0.1, affine=True, track_running_stats=True)\n",
            "      )\n",
            "    )\n",
            "    (1): ResidualBlock(\n",
            "      (conv1): Conv2d(32, 32, kernel_size=(3, 3), stride=(1, 1), padding=(1, 1), bias=False)\n",
            "      (bn1): BatchNorm2d(32, eps=1e-05, momentum=0.1, affine=True, track_running_stats=True)\n",
            "      (relu): ReLU(inplace=True)\n",
            "      (conv2): Conv2d(32, 32, kernel_size=(3, 3), stride=(1, 1), padding=(1, 1), bias=False)\n",
            "      (bn2): BatchNorm2d(32, eps=1e-05, momentum=0.1, affine=True, track_running_stats=True)\n",
            "    )\n",
            "  )\n",
            "  (layer3): Sequential(\n",
            "    (0): ResidualBlock(\n",
            "      (conv1): Conv2d(32, 64, kernel_size=(3, 3), stride=(2, 2), padding=(1, 1), bias=False)\n",
            "      (bn1): BatchNorm2d(64, eps=1e-05, momentum=0.1, affine=True, track_running_stats=True)\n",
            "      (relu): ReLU(inplace=True)\n",
            "      (conv2): Conv2d(64, 64, kernel_size=(3, 3), stride=(1, 1), padding=(1, 1), bias=False)\n",
            "      (bn2): BatchNorm2d(64, eps=1e-05, momentum=0.1, affine=True, track_running_stats=True)\n",
            "      (downsample): Sequential(\n",
            "        (0): Conv2d(32, 64, kernel_size=(3, 3), stride=(2, 2), padding=(1, 1), bias=False)\n",
            "        (1): BatchNorm2d(64, eps=1e-05, momentum=0.1, affine=True, track_running_stats=True)\n",
            "      )\n",
            "    )\n",
            "    (1): ResidualBlock(\n",
            "      (conv1): Conv2d(64, 64, kernel_size=(3, 3), stride=(1, 1), padding=(1, 1), bias=False)\n",
            "      (bn1): BatchNorm2d(64, eps=1e-05, momentum=0.1, affine=True, track_running_stats=True)\n",
            "      (relu): ReLU(inplace=True)\n",
            "      (conv2): Conv2d(64, 64, kernel_size=(3, 3), stride=(1, 1), padding=(1, 1), bias=False)\n",
            "      (bn2): BatchNorm2d(64, eps=1e-05, momentum=0.1, affine=True, track_running_stats=True)\n",
            "    )\n",
            "  )\n",
            "  (avg_pool): AvgPool2d(kernel_size=8, stride=8, padding=0)\n",
            "  (fc): Linear(in_features=64, out_features=4, bias=True)\n",
            ")\n"
          ],
          "name": "stdout"
        }
      ]
    },
    {
      "cell_type": "code",
      "metadata": {
        "id": "NYcdRqz81gA0",
        "colab_type": "code",
        "outputId": "d772cee9-6bcd-4198-fb70-cddc4b8f9638",
        "colab": {
          "base_uri": "https://localhost:8080/",
          "height": 525
        }
      },
      "source": [
        "train_loss_list, test_loss_list = run(resnet, num_epochs, optimizer, trainloader, testloader, device, lossFunction, lr)\n",
        "show_curve(train_loss_list, 'train_loss')\n",
        "show_curve(test_loss_list, 'test_loss')"
      ],
      "execution_count": 37,
      "outputs": [
        {
          "output_type": "stream",
          "text": [
            "\n",
            "Epoch: 0\n",
            "Train loss: 0.917 | Train Acc: 56.830% (1704886/3000000)\n",
            "Test Loss: 0.795  | Test Acc: 64.117% (613966/957571)\n",
            "\n",
            "Epoch: 1\n",
            "Train loss: 0.718 | Train Acc: 68.462% (2053859/3000000)\n",
            "Test Loss: 0.670  | Test Acc: 70.886% (678782/957571)\n",
            "\n",
            "Epoch: 2\n"
          ],
          "name": "stdout"
        },
        {
          "output_type": "error",
          "ename": "KeyboardInterrupt",
          "evalue": "ignored",
          "traceback": [
            "\u001b[0;31m---------------------------------------------------------------------------\u001b[0m",
            "\u001b[0;31mKeyboardInterrupt\u001b[0m                         Traceback (most recent call last)",
            "\u001b[0;32m<ipython-input-37-22992e30a4e3>\u001b[0m in \u001b[0;36m<module>\u001b[0;34m()\u001b[0m\n\u001b[0;32m----> 1\u001b[0;31m \u001b[0mtrain_loss_list\u001b[0m\u001b[0;34m,\u001b[0m \u001b[0mtest_loss_list\u001b[0m \u001b[0;34m=\u001b[0m \u001b[0mrun\u001b[0m\u001b[0;34m(\u001b[0m\u001b[0mresnet\u001b[0m\u001b[0;34m,\u001b[0m \u001b[0mnum_epochs\u001b[0m\u001b[0;34m,\u001b[0m \u001b[0moptimizer\u001b[0m\u001b[0;34m,\u001b[0m \u001b[0mtrainloader\u001b[0m\u001b[0;34m,\u001b[0m \u001b[0mtestloader\u001b[0m\u001b[0;34m,\u001b[0m \u001b[0mdevice\u001b[0m\u001b[0;34m,\u001b[0m \u001b[0mlossFunction\u001b[0m\u001b[0;34m,\u001b[0m \u001b[0mlr\u001b[0m\u001b[0;34m)\u001b[0m\u001b[0;34m\u001b[0m\u001b[0;34m\u001b[0m\u001b[0m\n\u001b[0m\u001b[1;32m      2\u001b[0m \u001b[0mshow_curve\u001b[0m\u001b[0;34m(\u001b[0m\u001b[0mtrain_loss_list\u001b[0m\u001b[0;34m,\u001b[0m \u001b[0;34m'train_loss'\u001b[0m\u001b[0;34m)\u001b[0m\u001b[0;34m\u001b[0m\u001b[0;34m\u001b[0m\u001b[0m\n\u001b[1;32m      3\u001b[0m \u001b[0mshow_curve\u001b[0m\u001b[0;34m(\u001b[0m\u001b[0mtest_loss_list\u001b[0m\u001b[0;34m,\u001b[0m \u001b[0;34m'test_loss'\u001b[0m\u001b[0;34m)\u001b[0m\u001b[0;34m\u001b[0m\u001b[0;34m\u001b[0m\u001b[0m\n",
            "\u001b[0;32m<ipython-input-36-cc03c8df181c>\u001b[0m in \u001b[0;36mrun\u001b[0;34m(model, num_epochs, optimizer, trainloader, testloader, device, lossFunction, lr)\u001b[0m\n\u001b[1;32m     10\u001b[0m \u001b[0;34m\u001b[0m\u001b[0m\n\u001b[1;32m     11\u001b[0m     \u001b[0;32mfor\u001b[0m \u001b[0mepoch\u001b[0m \u001b[0;32min\u001b[0m \u001b[0mrange\u001b[0m\u001b[0;34m(\u001b[0m\u001b[0mnum_epochs\u001b[0m\u001b[0;34m)\u001b[0m\u001b[0;34m:\u001b[0m\u001b[0;34m\u001b[0m\u001b[0;34m\u001b[0m\u001b[0m\n\u001b[0;32m---> 12\u001b[0;31m         \u001b[0mtrain_loss_list\u001b[0m\u001b[0;34m.\u001b[0m\u001b[0mappend\u001b[0m\u001b[0;34m(\u001b[0m\u001b[0mtrain\u001b[0m\u001b[0;34m(\u001b[0m\u001b[0mepoch\u001b[0m\u001b[0;34m,\u001b[0m \u001b[0mmodel\u001b[0m\u001b[0;34m,\u001b[0m \u001b[0mlossFunction\u001b[0m\u001b[0;34m,\u001b[0m \u001b[0moptimizer\u001b[0m\u001b[0;34m,\u001b[0m \u001b[0mdevice\u001b[0m\u001b[0;34m,\u001b[0m \u001b[0mtrainloader\u001b[0m\u001b[0;34m)\u001b[0m\u001b[0;34m)\u001b[0m\u001b[0;34m\u001b[0m\u001b[0;34m\u001b[0m\u001b[0m\n\u001b[0m\u001b[1;32m     13\u001b[0m         \u001b[0mtest_loss_list\u001b[0m\u001b[0;34m.\u001b[0m\u001b[0mappend\u001b[0m\u001b[0;34m(\u001b[0m\u001b[0mtest\u001b[0m\u001b[0;34m(\u001b[0m\u001b[0mmodel\u001b[0m\u001b[0;34m,\u001b[0m \u001b[0mlossFunction\u001b[0m\u001b[0;34m,\u001b[0m \u001b[0moptimizer\u001b[0m\u001b[0;34m,\u001b[0m \u001b[0mdevice\u001b[0m\u001b[0;34m,\u001b[0m \u001b[0mtestloader\u001b[0m\u001b[0;34m)\u001b[0m\u001b[0;34m)\u001b[0m\u001b[0;34m\u001b[0m\u001b[0;34m\u001b[0m\u001b[0m\n\u001b[1;32m     14\u001b[0m \u001b[0;34m\u001b[0m\u001b[0m\n",
            "\u001b[0;32m<ipython-input-24-c1b5c073247d>\u001b[0m in \u001b[0;36mtrain\u001b[0;34m(epoch, model, lossFunction, optimizer, device, trainloader)\u001b[0m\n\u001b[1;32m     26\u001b[0m         \u001b[0mtargets\u001b[0m \u001b[0;34m=\u001b[0m \u001b[0mtargets\u001b[0m\u001b[0;34m.\u001b[0m\u001b[0msqueeze_\u001b[0m\u001b[0;34m(\u001b[0m\u001b[0;34m)\u001b[0m\u001b[0;34m\u001b[0m\u001b[0;34m\u001b[0m\u001b[0m\n\u001b[1;32m     27\u001b[0m         \u001b[0mloss\u001b[0m \u001b[0;34m=\u001b[0m \u001b[0mlossFunction\u001b[0m\u001b[0;34m(\u001b[0m\u001b[0moutputs\u001b[0m\u001b[0;34m,\u001b[0m \u001b[0mtargets\u001b[0m\u001b[0;34m)\u001b[0m \u001b[0;31m#compute loss\u001b[0m\u001b[0;34m\u001b[0m\u001b[0;34m\u001b[0m\u001b[0m\n\u001b[0;32m---> 28\u001b[0;31m         \u001b[0mloss\u001b[0m\u001b[0;34m.\u001b[0m\u001b[0mbackward\u001b[0m\u001b[0;34m(\u001b[0m\u001b[0;34m)\u001b[0m                  \u001b[0;31m# compute gradient of loss over parameters\u001b[0m\u001b[0;34m\u001b[0m\u001b[0;34m\u001b[0m\u001b[0m\n\u001b[0m\u001b[1;32m     29\u001b[0m         \u001b[0moptimizer\u001b[0m\u001b[0;34m.\u001b[0m\u001b[0mstep\u001b[0m\u001b[0;34m(\u001b[0m\u001b[0;34m)\u001b[0m                 \u001b[0;31m# update parameters with gradient descent\u001b[0m\u001b[0;34m\u001b[0m\u001b[0;34m\u001b[0m\u001b[0m\n\u001b[1;32m     30\u001b[0m \u001b[0;34m\u001b[0m\u001b[0m\n",
            "\u001b[0;32m/usr/local/lib/python3.6/dist-packages/torch/tensor.py\u001b[0m in \u001b[0;36mbackward\u001b[0;34m(self, gradient, retain_graph, create_graph)\u001b[0m\n\u001b[1;32m    193\u001b[0m                 \u001b[0mproducts\u001b[0m\u001b[0;34m.\u001b[0m \u001b[0mDefaults\u001b[0m \u001b[0mto\u001b[0m\u001b[0;31m \u001b[0m\u001b[0;31m`\u001b[0m\u001b[0;31m`\u001b[0m\u001b[0;32mFalse\u001b[0m\u001b[0;31m`\u001b[0m\u001b[0;31m`\u001b[0m\u001b[0;34m.\u001b[0m\u001b[0;34m\u001b[0m\u001b[0;34m\u001b[0m\u001b[0m\n\u001b[1;32m    194\u001b[0m         \"\"\"\n\u001b[0;32m--> 195\u001b[0;31m         \u001b[0mtorch\u001b[0m\u001b[0;34m.\u001b[0m\u001b[0mautograd\u001b[0m\u001b[0;34m.\u001b[0m\u001b[0mbackward\u001b[0m\u001b[0;34m(\u001b[0m\u001b[0mself\u001b[0m\u001b[0;34m,\u001b[0m \u001b[0mgradient\u001b[0m\u001b[0;34m,\u001b[0m \u001b[0mretain_graph\u001b[0m\u001b[0;34m,\u001b[0m \u001b[0mcreate_graph\u001b[0m\u001b[0;34m)\u001b[0m\u001b[0;34m\u001b[0m\u001b[0;34m\u001b[0m\u001b[0m\n\u001b[0m\u001b[1;32m    196\u001b[0m \u001b[0;34m\u001b[0m\u001b[0m\n\u001b[1;32m    197\u001b[0m     \u001b[0;32mdef\u001b[0m \u001b[0mregister_hook\u001b[0m\u001b[0;34m(\u001b[0m\u001b[0mself\u001b[0m\u001b[0;34m,\u001b[0m \u001b[0mhook\u001b[0m\u001b[0;34m)\u001b[0m\u001b[0;34m:\u001b[0m\u001b[0;34m\u001b[0m\u001b[0;34m\u001b[0m\u001b[0m\n",
            "\u001b[0;32m/usr/local/lib/python3.6/dist-packages/torch/autograd/__init__.py\u001b[0m in \u001b[0;36mbackward\u001b[0;34m(tensors, grad_tensors, retain_graph, create_graph, grad_variables)\u001b[0m\n\u001b[1;32m     97\u001b[0m     Variable._execution_engine.run_backward(\n\u001b[1;32m     98\u001b[0m         \u001b[0mtensors\u001b[0m\u001b[0;34m,\u001b[0m \u001b[0mgrad_tensors\u001b[0m\u001b[0;34m,\u001b[0m \u001b[0mretain_graph\u001b[0m\u001b[0;34m,\u001b[0m \u001b[0mcreate_graph\u001b[0m\u001b[0;34m,\u001b[0m\u001b[0;34m\u001b[0m\u001b[0;34m\u001b[0m\u001b[0m\n\u001b[0;32m---> 99\u001b[0;31m         allow_unreachable=True)  # allow_unreachable flag\n\u001b[0m\u001b[1;32m    100\u001b[0m \u001b[0;34m\u001b[0m\u001b[0m\n\u001b[1;32m    101\u001b[0m \u001b[0;34m\u001b[0m\u001b[0m\n",
            "\u001b[0;31mKeyboardInterrupt\u001b[0m: "
          ]
        }
      ]
    }
  ]
}